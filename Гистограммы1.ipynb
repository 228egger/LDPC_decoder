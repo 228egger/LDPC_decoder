{
 "cells": [
  {
   "cell_type": "markdown",
   "id": "ee770d6e",
   "metadata": {},
   "source": [
    "В этой программе будет использоваться ранее написанный декодер для LDPC кодов. Будут получены гистограммы для C и V узлов кода (3, 6) на разных итерациях "
   ]
  },
  {
   "cell_type": "code",
   "execution_count": 1,
   "id": "b5ef984d",
   "metadata": {},
   "outputs": [],
   "source": [
    "import matplotlib.pyplot as plt\n",
    "import numpy as np\n",
    "import scipy.stats as stats\n",
    "import math\n",
    "from math import e, log\n",
    "import pandas as pd\n",
    "from sklearn import datasets\n",
    "import seaborn as sns"
   ]
  },
  {
   "cell_type": "code",
   "execution_count": 2,
   "id": "952b9154",
   "metadata": {},
   "outputs": [],
   "source": [
    "size_of_sample = 100\n",
    "max_l = 1000\n",
    "l = 0\n",
    "H = np.array([[1, 1, 1, 1, 1, 1, 0, 0, 0, 0, 0, 0], \n",
    "             [1, 0, 0, 0, 0, 0, 1, 1, 1, 1, 1, 0], \n",
    "             [1, 0, 1, 0, 1, 0, 1, 0, 1, 0, 1, 0],\n",
    "             [0, 1, 0, 1, 0, 1, 0, 1, 0, 1, 0, 1],\n",
    "             [0, 0, 1, 1, 0, 0, 1, 1, 0, 0, 1, 1],\n",
    "             [0, 1, 0, 0, 1, 1, 0, 0, 1, 1, 0, 1]])"
   ]
  },
  {
   "cell_type": "code",
   "execution_count": 3,
   "id": "8aa52621",
   "metadata": {},
   "outputs": [],
   "source": [
    "def dc_update(L_j_i):\n",
    "    L_i_j = [[0 for i in range(12)] for j in range(6)]\n",
    "    for i in range(len(L_i_j)):\n",
    "        for j in range(len(L_i_j[0])):\n",
    "            tmp = 1\n",
    "            for k in range(len(L_i_j[0])):\n",
    "                if (k != j ):\n",
    "                    if (H[i][k]):\n",
    "                        tmp *= np.tanh(L_j_i[k][i] / 2)\n",
    "            L_i_j[i][j] = 2 * np.arctanh(tmp)\n",
    "    return L_i_j"
   ]
  },
  {
   "cell_type": "code",
   "execution_count": 4,
   "id": "5b8d6d37",
   "metadata": {},
   "outputs": [],
   "source": [
    "def dv_update(L_i_j, L_j_i, L_j):\n",
    "    for i in range(len(L_j_i)):\n",
    "        for j in range(len(L_j_i[0])):\n",
    "            tmp = L_j[i]\n",
    "            for k in range(len(L_j_i[0])):\n",
    "                if (k != j):\n",
    "                    if (H[k][i]):\n",
    "                        tmp += L_i_j[k][i]\n",
    "            L_j_i[i][j] = tmp\n",
    "    return L_j_i"
   ]
  },
  {
   "cell_type": "code",
   "execution_count": 5,
   "id": "6c2c93c2",
   "metadata": {},
   "outputs": [],
   "source": [
    "def stop_kriteria(L_j_i, L_i_j, L_j, H, l):\n",
    "    mv = np.zeros(12)\n",
    "    for j in range(len(L_j_i)):\n",
    "        tmp = 0\n",
    "        for i in range(len(L_i_j)):\n",
    "            tmp += L_i_j[i][j]\n",
    "        if (tmp + L_j[j] < 0):\n",
    "            mv[j] = 1\n",
    "        else:\n",
    "            mv[j] = 0\n",
    "    if (np.dot(mv, H.T).all() == 0):\n",
    "        #print(\"got_it\\n\")\n",
    "        #print(mv)\n",
    "        #print(l)\n",
    "        return True\n",
    "    elif (l == max_l):\n",
    "        #print(\"max_iter_reach\")\n",
    "        return False\n",
    "    return 4"
   ]
  },
  {
   "cell_type": "code",
   "execution_count": 6,
   "id": "969e16c1",
   "metadata": {},
   "outputs": [],
   "source": [
    "def iteration_of_sample(sigma):\n",
    "    nu = np.random.normal(0, sigma, 12)\n",
    "    l = 0\n",
    "    x= np.random.randint(0,2,12)\n",
    "    v = [-1 if (i == 1) else 1 for i in x]\n",
    "    y = [v[i] + nu[i] for i in range(12)]\n",
    "    L_j = [2 * i / (sigma ** 2) for i in y]\n",
    "    L_j_i = [[L_j[j] if H[i][j] == 1 else 0 for i in range(6)] for j in range(12)]\n",
    "    L_i_j = [[0 for i in range(12)] for j in range(6)]\n",
    "    while True:\n",
    "        L_i_j = dc_update(L_j_i)\n",
    "        L_j_i = dv_update(L_i_j, L_j_i, L_j)\n",
    "        l += 1\n",
    "        if (stop_kriteria(L_j_i, L_i_j, L_j, H, l) != 4):\n",
    "            break\n",
    "    return l\n",
    "    "
   ]
  },
  {
   "cell_type": "markdown",
   "id": "5f50ff69",
   "metadata": {},
   "source": [
    "L_ans - двойной массив, 10x100, для $\\sigma_1, \\sigma_2, \\dots \\sigma_10$, значение $L[i][j]$ - количесто кодов, с количеством итераций = j"
   ]
  },
  {
   "cell_type": "code",
   "execution_count": null,
   "id": "507a19af",
   "metadata": {},
   "outputs": [
    {
     "name": "stderr",
     "output_type": "stream",
     "text": [
      "/var/folders/x6/b_ylqyd127s0ckfw_r19b2880000gn/T/ipykernel_79354/4021598895.py:10: RuntimeWarning: divide by zero encountered in arctanh\n",
      "  L_i_j[i][j] = 2 * np.arctanh(tmp)\n",
      "/var/folders/x6/b_ylqyd127s0ckfw_r19b2880000gn/T/ipykernel_79354/3400298976.py:8: RuntimeWarning: invalid value encountered in double_scalars\n",
      "  tmp += L_i_j[k][i]\n",
      "/var/folders/x6/b_ylqyd127s0ckfw_r19b2880000gn/T/ipykernel_79354/297629177.py:6: RuntimeWarning: invalid value encountered in double_scalars\n",
      "  tmp += L_i_j[i][j]\n"
     ]
    }
   ],
   "source": [
    "L_ans = [[] for i in range(9)]\n",
    "sigmas = [0.001, 0.1, 0.5, 0.9, 1, 1.5, 2, 4, 8]\n",
    "for j in range(len(sigmas)):\n",
    "    i = 0\n",
    "    while (i < size_of_sample):\n",
    "        l = iteration_of_sample(sigmas[j])\n",
    "        L_ans[j].append(l)\n",
    "        i += 1\n",
    "L_ans[8]"
   ]
  },
  {
   "cell_type": "code",
   "execution_count": null,
   "id": "42743b93",
   "metadata": {},
   "outputs": [],
   "source": [
    "fig, axs= plt.subplots(1, 3)\n",
    "n_bins =100\n",
    "axs[0].hist(L_ans[0], bins=n_bins)\n",
    "axs[0].set_title('sigma = 0.01')\n",
    "axs[1].hist(L_ans[1], bins=n_bins)\n",
    "axs[1].set_title('sigma = 0.1')\n",
    "axs[2].hist(L_ans[2], bins=n_bins)\n",
    "axs[2].set_title('sigma = 0.5')"
   ]
  },
  {
   "cell_type": "code",
   "execution_count": null,
   "id": "b02b8299",
   "metadata": {},
   "outputs": [],
   "source": [
    "fig, axs= plt.subplots(1, 3)\n",
    "n_bins =100\n",
    "axs[0].hist(L_ans[3], bins=n_bins)\n",
    "axs[0].set_title('sigma = 0.9')\n",
    "axs[1].hist(L_ans[4], bins=n_bins)\n",
    "axs[1].set_title('sigma = 1')\n",
    "axs[2].hist(L_ans[5], bins=n_bins)\n",
    "axs[2].set_title('sigma = 1.5')"
   ]
  },
  {
   "cell_type": "code",
   "execution_count": null,
   "id": "b1914bc6",
   "metadata": {},
   "outputs": [],
   "source": [
    "fig, axs= plt.subplots(1, 3)\n",
    "n_bins =100\n",
    "axs[0].hist(L_ans[6], bins=n_bins)\n",
    "axs[0].set_title('sigma = 2')\n",
    "axs[1].hist(L_ans[7], bins=n_bins)\n",
    "axs[1].set_title('sigma = 4')\n",
    "axs[2].hist(L_ans[8], bins=n_bins)\n",
    "axs[2].set_title('sigma = 8')"
   ]
  },
  {
   "cell_type": "code",
   "execution_count": null,
   "id": "854b42ba",
   "metadata": {},
   "outputs": [],
   "source": [
    "sns_plot = sns.distplot(L_ans[5])\n",
    "fig = sns_plot.get_figure()"
   ]
  },
  {
   "cell_type": "code",
   "execution_count": null,
   "id": "18077f46",
   "metadata": {},
   "outputs": [],
   "source": []
  }
 ],
 "metadata": {
  "kernelspec": {
   "display_name": "Python 3 (ipykernel)",
   "language": "python",
   "name": "python3"
  },
  "language_info": {
   "codemirror_mode": {
    "name": "ipython",
    "version": 3
   },
   "file_extension": ".py",
   "mimetype": "text/x-python",
   "name": "python",
   "nbconvert_exporter": "python",
   "pygments_lexer": "ipython3",
   "version": "3.9.13"
  }
 },
 "nbformat": 4,
 "nbformat_minor": 5
}
