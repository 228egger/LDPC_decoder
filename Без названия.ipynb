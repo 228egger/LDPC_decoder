{
 "cells": [
  {
   "cell_type": "code",
   "execution_count": 125,
   "id": "eacf9b53",
   "metadata": {},
   "outputs": [
    {
     "name": "stderr",
     "output_type": "stream",
     "text": [
      "/var/folders/x6/b_ylqyd127s0ckfw_r19b2880000gn/T/ipykernel_48638/855318882.py:20: RuntimeWarning: divide by zero encountered in arctanh\n",
      "  mc_cur = 2 * np.arctanh(np.prod(np.tanh(mv_cur / 2), axis = 1)).reshape(-1, dv - 1)\n",
      "/var/folders/x6/b_ylqyd127s0ckfw_r19b2880000gn/T/ipykernel_48638/855318882.py:22: RuntimeWarning: divide by zero encountered in arctanh\n",
      "  mc_cur = 2 * np.arctanh(np.prod(np.tanh(mv_cur / 2), axis = 1))\n"
     ]
    }
   ],
   "source": [
    "import numpy as np\n",
    "\n",
    "sigma = 1.5\n",
    "dv = 6\n",
    "dc = 3\n",
    "\n",
    "\n",
    "mc_distribution = [[], [], [], [], []]\n",
    "mv_distribution = [[], [], [], [], []]\n",
    "l = 5\n",
    "\n",
    "\n",
    "for j in range(2000):\n",
    "    mc_cur = np.random.normal(2 / sigma ** 2, 4 / sigma ** 2, size = ((dc - 1) ** l * (dv - 1) ** (l - 1), dv - 1)).astype(np.float64)\n",
    "    mc_0 = np.random.normal(2 / sigma ** 2, 4 / sigma ** 2, size = ((dc - 1) ** l * (dv - 1) ** (l - 1), )).astype(np.float64)\n",
    "    for i in range(l):\n",
    "        mc_0 = mc_0[:mc_cur.shape[0], ]\n",
    "        mv_cur = (np.sum(mc_cur, axis = 1) + mc_0).reshape(-1, dc - 1)\n",
    "        if i != l - 1:\n",
    "            mc_cur = 2 * np.arctanh(np.prod(np.tanh(mv_cur / 2), axis = 1)).reshape(-1, dv - 1)\n",
    "        else:\n",
    "            mc_cur = 2 * np.arctanh(np.prod(np.tanh(mv_cur / 2), axis = 1))\n",
    "        mc_distribution[i].append(mc_cur[0])\n",
    "        mv_distribution[i].append(mv_cur[0])\n",
    "\n"
   ]
  },
  {
   "cell_type": "code",
   "execution_count": 128,
   "id": "6e9d8530",
   "metadata": {},
   "outputs": [
    {
     "data": {
      "text/plain": [
       "array([], dtype=float64)"
      ]
     },
     "execution_count": 128,
     "metadata": {},
     "output_type": "execute_result"
    }
   ],
   "source": [
    "mc_2 = np.array(np.ravel(mc_distribution[3]))\n",
    "mc_2 = mc_2[np.isfinite(mc_2)]\n",
    "mc_2"
   ]
  },
  {
   "cell_type": "code",
   "execution_count": 129,
   "id": "ce5c99ef",
   "metadata": {},
   "outputs": [
    {
     "ename": "ValueError",
     "evalue": "zero-size array to reduction operation minimum which has no identity",
     "output_type": "error",
     "traceback": [
      "\u001b[0;31m---------------------------------------------------------------------------\u001b[0m",
      "\u001b[0;31mValueError\u001b[0m                                Traceback (most recent call last)",
      "\u001b[0;32m/var/folders/x6/b_ylqyd127s0ckfw_r19b2880000gn/T/ipykernel_48638/2256884831.py\u001b[0m in \u001b[0;36m<module>\u001b[0;34m\u001b[0m\n\u001b[1;32m      7\u001b[0m \u001b[0marr\u001b[0m \u001b[0;34m=\u001b[0m \u001b[0mmc_2\u001b[0m\u001b[0;34m.\u001b[0m\u001b[0mcopy\u001b[0m\u001b[0;34m(\u001b[0m\u001b[0;34m)\u001b[0m\u001b[0;34m\u001b[0m\u001b[0;34m\u001b[0m\u001b[0m\n\u001b[1;32m      8\u001b[0m \u001b[0mmu\u001b[0m\u001b[0;34m,\u001b[0m \u001b[0mstd\u001b[0m \u001b[0;34m=\u001b[0m \u001b[0mnorm\u001b[0m\u001b[0;34m.\u001b[0m\u001b[0mfit\u001b[0m\u001b[0;34m(\u001b[0m\u001b[0marr\u001b[0m\u001b[0;34m)\u001b[0m\u001b[0;34m\u001b[0m\u001b[0;34m\u001b[0m\u001b[0m\n\u001b[0;32m----> 9\u001b[0;31m \u001b[0mplt\u001b[0m\u001b[0;34m.\u001b[0m\u001b[0mhist\u001b[0m\u001b[0;34m(\u001b[0m\u001b[0marr\u001b[0m\u001b[0;34m,\u001b[0m \u001b[0mbins\u001b[0m\u001b[0;34m=\u001b[0m \u001b[0mnp\u001b[0m\u001b[0;34m.\u001b[0m\u001b[0marange\u001b[0m\u001b[0;34m(\u001b[0m\u001b[0marr\u001b[0m\u001b[0;34m.\u001b[0m\u001b[0mmin\u001b[0m\u001b[0;34m(\u001b[0m\u001b[0;34m)\u001b[0m\u001b[0;34m,\u001b[0m \u001b[0marr\u001b[0m\u001b[0;34m.\u001b[0m\u001b[0mmax\u001b[0m\u001b[0;34m(\u001b[0m\u001b[0;34m)\u001b[0m \u001b[0;34m+\u001b[0m \u001b[0;36m3\u001b[0m\u001b[0;34m,\u001b[0m \u001b[0;36m3\u001b[0m\u001b[0;34m)\u001b[0m\u001b[0;34m,\u001b[0m \u001b[0mdensity\u001b[0m\u001b[0;34m=\u001b[0m\u001b[0;32mTrue\u001b[0m\u001b[0;34m)\u001b[0m\u001b[0;34m\u001b[0m\u001b[0;34m\u001b[0m\u001b[0m\n\u001b[0m\u001b[1;32m     10\u001b[0m \u001b[0mxmin\u001b[0m\u001b[0;34m,\u001b[0m \u001b[0mxmax\u001b[0m \u001b[0;34m=\u001b[0m \u001b[0mplt\u001b[0m\u001b[0;34m.\u001b[0m\u001b[0mxlim\u001b[0m\u001b[0;34m(\u001b[0m\u001b[0;34m)\u001b[0m\u001b[0;34m\u001b[0m\u001b[0;34m\u001b[0m\u001b[0m\n\u001b[1;32m     11\u001b[0m \u001b[0mx\u001b[0m \u001b[0;34m=\u001b[0m \u001b[0mnp\u001b[0m\u001b[0;34m.\u001b[0m\u001b[0mlinspace\u001b[0m\u001b[0;34m(\u001b[0m\u001b[0mxmin\u001b[0m\u001b[0;34m,\u001b[0m \u001b[0mxmax\u001b[0m\u001b[0;34m,\u001b[0m \u001b[0;36m10000\u001b[0m\u001b[0;34m)\u001b[0m\u001b[0;34m\u001b[0m\u001b[0;34m\u001b[0m\u001b[0m\n",
      "\u001b[0;32m~/opt/anaconda3/lib/python3.9/site-packages/numpy/core/_methods.py\u001b[0m in \u001b[0;36m_amin\u001b[0;34m(a, axis, out, keepdims, initial, where)\u001b[0m\n\u001b[1;32m     43\u001b[0m def _amin(a, axis=None, out=None, keepdims=False,\n\u001b[1;32m     44\u001b[0m           initial=_NoValue, where=True):\n\u001b[0;32m---> 45\u001b[0;31m     \u001b[0;32mreturn\u001b[0m \u001b[0mumr_minimum\u001b[0m\u001b[0;34m(\u001b[0m\u001b[0ma\u001b[0m\u001b[0;34m,\u001b[0m \u001b[0maxis\u001b[0m\u001b[0;34m,\u001b[0m \u001b[0;32mNone\u001b[0m\u001b[0;34m,\u001b[0m \u001b[0mout\u001b[0m\u001b[0;34m,\u001b[0m \u001b[0mkeepdims\u001b[0m\u001b[0;34m,\u001b[0m \u001b[0minitial\u001b[0m\u001b[0;34m,\u001b[0m \u001b[0mwhere\u001b[0m\u001b[0;34m)\u001b[0m\u001b[0;34m\u001b[0m\u001b[0;34m\u001b[0m\u001b[0m\n\u001b[0m\u001b[1;32m     46\u001b[0m \u001b[0;34m\u001b[0m\u001b[0m\n\u001b[1;32m     47\u001b[0m def _sum(a, axis=None, dtype=None, out=None, keepdims=False,\n",
      "\u001b[0;31mValueError\u001b[0m: zero-size array to reduction operation minimum which has no identity"
     ]
    },
    {
     "data": {
      "text/plain": [
       "<Figure size 640x480 with 0 Axes>"
      ]
     },
     "metadata": {},
     "output_type": "display_data"
    }
   ],
   "source": [
    "import matplotlib.pyplot as plt\n",
    "from scipy.stats import norm \n",
    "\n",
    "\n",
    "\n",
    "fig2 = plt.figure()\n",
    "arr = mc_2.copy()\n",
    "mu, std = norm.fit(arr)  \n",
    "plt.hist(arr, bins= np.arange(arr.min(), arr.max() + 3, 3), density=True)\n",
    "xmin, xmax = plt.xlim() \n",
    "x = np.linspace(xmin, xmax, 10000) \n",
    "p = norm.pdf(x, mu, std) \n",
    "\n",
    "plt.plot(x, p, 'k', linewidth=2)\n",
    "title = \"sigma: {:.5f}; decoded: {:.2f}\".format(sigma, arr.shape[0] / 2000) + \" dv = 6, dc = 3 \" + \"CN\"\n",
    "plt.title(title) \n",
    "plt.plot()"
   ]
  },
  {
   "cell_type": "code",
   "execution_count": 36,
   "id": "a97b982a",
   "metadata": {},
   "outputs": [
    {
     "name": "stdout",
     "output_type": "stream",
     "text": [
      "[-12.40600691   7.74250744  11.56624663  -6.70743437  -2.52603352]\n"
     ]
    }
   ],
   "source": [
    "print(mc_distribution[0][0])"
   ]
  },
  {
   "cell_type": "code",
   "execution_count": null,
   "id": "37677ecf",
   "metadata": {},
   "outputs": [],
   "source": []
  }
 ],
 "metadata": {
  "kernelspec": {
   "display_name": "Python 3 (ipykernel)",
   "language": "python",
   "name": "python3"
  },
  "language_info": {
   "codemirror_mode": {
    "name": "ipython",
    "version": 3
   },
   "file_extension": ".py",
   "mimetype": "text/x-python",
   "name": "python",
   "nbconvert_exporter": "python",
   "pygments_lexer": "ipython3",
   "version": "3.9.13"
  }
 },
 "nbformat": 4,
 "nbformat_minor": 5
}
