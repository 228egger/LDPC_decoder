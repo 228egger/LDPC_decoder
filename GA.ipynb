{
 "cells": [
  {
   "cell_type": "code",
   "execution_count": 1,
   "id": "88b16f88",
   "metadata": {},
   "outputs": [],
   "source": [
    "from scipy.fft import fft, fft2, ifft2\n",
    "import scipy.integrate as integrate\n",
    "import matplotlib.pyplot as plt\n",
    "import numpy as np\n",
    "import scipy.stats as stats\n",
    "import math\n",
    "from math import e, log\n",
    "import pandas as pd\n",
    "from sklearn import datasets\n",
    "import seaborn as sns"
   ]
  },
  {
   "cell_type": "code",
   "execution_count": 17,
   "id": "b100965d",
   "metadata": {},
   "outputs": [],
   "source": [
    "def int1(x, m):\n",
    "    return np.tanh(x/2) * np.exp(-(x - m) ** 2 / (4 * m))"
   ]
  },
  {
   "cell_type": "code",
   "execution_count": 51,
   "id": "51f51c88",
   "metadata": {},
   "outputs": [],
   "source": [
    "def phi(m):\n",
    "    I = integrate.quad(lambda x: int1(x, m), -np.inf, np.inf)\n",
    "    return 1 - (1/np.sqrt(4.0 * np.pi * m)) * I[0]"
   ]
  },
  {
   "cell_type": "code",
   "execution_count": 69,
   "id": "c5827703",
   "metadata": {},
   "outputs": [
    {
     "name": "stderr",
     "output_type": "stream",
     "text": [
      "/var/folders/x6/b_ylqyd127s0ckfw_r19b2880000gn/T/ipykernel_6072/1067075377.py:2: RuntimeWarning: divide by zero encountered in scalar divide\n",
      "  return np.tanh(x/2) * np.exp(-(x - m) ** 2 / (4 * m))\n",
      "/var/folders/x6/b_ylqyd127s0ckfw_r19b2880000gn/T/ipykernel_6072/3855864247.py:3: RuntimeWarning: divide by zero encountered in scalar divide\n",
      "  return 1 - (1/np.sqrt(4.0 * np.pi * m)) * I[0]\n",
      "/var/folders/x6/b_ylqyd127s0ckfw_r19b2880000gn/T/ipykernel_6072/3855864247.py:3: RuntimeWarning: invalid value encountered in scalar multiply\n",
      "  return 1 - (1/np.sqrt(4.0 * np.pi * m)) * I[0]\n"
     ]
    },
    {
     "data": {
      "text/plain": [
       "[<matplotlib.lines.Line2D at 0x7fb20b065f40>]"
      ]
     },
     "execution_count": 69,
     "metadata": {},
     "output_type": "execute_result"
    },
    {
     "data": {
      "image/png": "[encoded data removed]",
      "text/plain": [
       "<Figure size 640x480 with 1 Axes>"
      ]
     },
     "metadata": {},
     "output_type": "display_data"
    }
   ],
   "source": [
    "x = np.linspace(0, 50, 5000)\n",
    "\n",
    "x_ans = [phi(i) for i in x]\n",
    "plt.plot(x, x_ans)"
   ]
  },
  {
   "cell_type": "code",
   "execution_count": 13,
   "id": "571e74ba",
   "metadata": {},
   "outputs": [],
   "source": [
    "def normal(x, mu = 0,sigma = 1):\n",
    "    '''\n",
    "    function for normal calculating density of normal distribution with given parametrs in the poiny\n",
    "    '''\n",
    "    return np.exp(-pow(mu - x, 2)/(2 * pow(sigma, 2))) / (sigma * np.sqrt(2*np.pi))"
   ]
  },
  {
   "cell_type": "code",
   "execution_count": 19,
   "id": "9a0a6f5b",
   "metadata": {},
   "outputs": [],
   "source": [
    "def phi(x):\n",
    "    if (x >= 0) and (x <= 10):\n",
    "        return np.exp(-0.4527* x **0.86 + 0.0218)\n",
    "    else:\n",
    "        return np.sqrt(np.pi/x) * np.exp(-x/4) * (1 - 10/(7 * x))"
   ]
  },
  {
   "cell_type": "code",
   "execution_count": 21,
   "id": "7c2a72ab",
   "metadata": {},
   "outputs": [],
   "source": [
    "def d_phi(x):\n",
    "    if (x >= 0) and (x <= 10):\n",
    "        return -0.4527 * 0.86 * x ** (-0.14) * phi(x)\n",
    "    else:\n",
    "        return np.exp(-x/4)* np.sqrt(np.pi/x)*(-1/(2 * x) * (1 - 10/(7 * x)) - 1/4*(1 - 10/(7*x)) + 10/(7 * x ** 2))"
   ]
  },
  {
   "cell_type": "code",
   "execution_count": 24,
   "id": "6b9fd501",
   "metadata": {},
   "outputs": [],
   "source": [
    "def phi_inverse(y):\n",
    "    '''''\n",
    "    if (y <= 1.0221) and (y >= 0.0388):\n",
    "        return ((0.0218 - np.log(y))/0.4527) ** (1/0.86)\n",
    "    else:\n",
    "        x0 = 0.0388\n",
    "        x1 = x0 - (phi(x0) - y)/d_phi(x0)\n",
    "        delta = abs(x1 - x0)\n",
    "        epsilon = 1e-3\n",
    "        while(delta >= epsilon):\n",
    "            x0 = x1\n",
    "            x1 = x1 - (phi(x1) - y)/d_phi(x1)\n",
    "            if x1 > 1e1:\n",
    "                epsilon = 0.1\n",
    "            delta = abs(x1 - x0)\n",
    "    return x1"
   ]
  },
  {
   "cell_type": "code",
   "execution_count": 37,
   "id": "97a84059",
   "metadata": {},
   "outputs": [
    {
     "name": "stdout",
     "output_type": "stream",
     "text": [
      "Gaussian Approximation is finished. The threshold sigma = 0.7909999999999955\n"
     ]
    }
   ],
   "source": [
    "max_iter = 1e3\n",
    "dc = 10\n",
    "dv = 5\n",
    "sigma = 0.75\n",
    "sigma_inc = 1e-4\n",
    "Pe = 1e-6\n",
    "l = 1\n",
    "while (l <= max_iter):\n",
    "    if l == 1:\n",
    "        u_cn = phi_inverse(1 - (1 - phi(2/sigma ** 2)) ** (dc - 1))\n",
    "        u_vn = 2/sigma ** 2 + (dv - 1) * u_cn\n",
    "        current_Pe = 1 - integrate.quad(lambda x: normal(x), -np.inf, np.sqrt(u_vn/2))[0]\n",
    "        if current_Pe < Pe:\n",
    "            sigma = sigma + sigma_inc\n",
    "            l = 1\n",
    "        else:\n",
    "            l = l + 1\n",
    "    else:\n",
    "        u_cn = phi_inverse(1 - (1 - phi(u_vn)) ** (dc - 1))\n",
    "        u_vn = (dv - 1) * u_cn + 2/sigma ** 2\n",
    "        current_Pe = 1 - integrate.quad(lambda x: normal(x), -np.inf, np.sqrt(u_vn/2))[0]\n",
    "        if current_Pe < Pe:\n",
    "            sigma = sigma + sigma_inc\n",
    "            l = 1\n",
    "        else:\n",
    "            l = l + 1\n",
    "    if l > max_iter:\n",
    "        print('Gaussian Approximation is finished. The threshold sigma = ' + str(sigma - sigma_inc))\n"
   ]
  },
  {
   "cell_type": "code",
   "execution_count": null,
   "id": "9d56eb8d",
   "metadata": {},
   "outputs": [],
   "source": []
  }
 ],
 "metadata": {
  "kernelspec": {
   "display_name": "Python 3 (ipykernel)",
   "language": "python",
   "name": "python3"
  },
  "language_info": {
   "codemirror_mode": {
    "name": "ipython",
    "version": 3
   },
   "file_extension": ".py",
   "mimetype": "text/x-python",
   "name": "python",
   "nbconvert_exporter": "python",
   "pygments_lexer": "ipython3",
   "version": "3.9.13"
  }
 },
 "nbformat": 4,
 "nbformat_minor": 5
}
