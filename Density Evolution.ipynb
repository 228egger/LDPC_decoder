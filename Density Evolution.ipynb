{
 "cells": [
  {
   "cell_type": "code",
   "execution_count": 1,
   "id": "1a64ae9f",
   "metadata": {},
   "outputs": [],
   "source": [
    "from scipy.fft import fft, fft2, ifft2\n",
    "import matplotlib.pyplot as plt\n",
    "import scipy\n",
    "import numpy as np\n",
    "import scipy.stats as stats\n",
    "import scipy.integrate as integrate\n",
    "import math\n",
    "from math import e, log\n",
    "import pandas as pd\n",
    "from sklearn import datasets\n",
    "import seaborn as sns"
   ]
  },
  {
   "cell_type": "code",
   "execution_count": 2,
   "id": "898e61fb",
   "metadata": {},
   "outputs": [],
   "source": [
    "max_l = 100\n",
    "l = 0\n",
    "Pr_er = 10**(-3)\n",
    "sigma = 0.8\n",
    "H = np.array([[1, 1, 1, 1, 1, 1, 0, 0, 0, 0, 0, 0], \n",
    "             [1, 0, 0, 0, 0, 0, 1, 1, 1, 1, 1, 0], \n",
    "             [1, 0, 1, 0, 1, 0, 1, 0, 1, 0, 1, 0],\n",
    "             [0, 1, 0, 1, 0, 1, 0, 1, 0, 1, 0, 1],\n",
    "             [0, 0, 1, 1, 0, 0, 1, 1, 0, 0, 1, 1],\n",
    "             [0, 1, 0, 0, 1, 1, 0, 0, 1, 1, 0, 1]])"
   ]
  },
  {
   "cell_type": "code",
   "execution_count": 3,
   "id": "75efb366",
   "metadata": {},
   "outputs": [],
   "source": [
    "d_c = 6"
   ]
  },
  {
   "cell_type": "code",
   "execution_count": 4,
   "id": "36ac90a0",
   "metadata": {},
   "outputs": [],
   "source": [
    "def find_nearest(array,value):\n",
    "    idx = np.searchsorted(array, value, side=\"left\")\n",
    "    if idx > 0 and (idx == len(array) or math.fabs(value - array[idx-1]) < math.fabs(value - array[idx])):\n",
    "        return array[idx-1]\n",
    "    else:\n",
    "        return array[idx]"
   ]
  },
  {
   "cell_type": "code",
   "execution_count": 5,
   "id": "d3013e86",
   "metadata": {},
   "outputs": [],
   "source": [
    "def phi(x):\n",
    "    return -np.log(np.tanh(x / 2))"
   ]
  },
  {
   "cell_type": "code",
   "execution_count": 6,
   "id": "f97571c4",
   "metadata": {},
   "outputs": [],
   "source": [
    "def normal(x, mu,sigma):\n",
    "    '''\n",
    "    function for normal calculating density of normal distribution with given parametrs in the poiny\n",
    "    '''\n",
    "    return np.exp(-pow(mu - x, 2)/(2 * pow(sigma, 2))) / (sigma * np.sqrt(2*np.pi))"
   ]
  },
  {
   "cell_type": "code",
   "execution_count": 7,
   "id": "6b2679ae",
   "metadata": {},
   "outputs": [],
   "source": [
    "def mv(sigma, Pr_er):\n",
    "    '''\n",
    "    returns arguments for density of mv on the first step\n",
    "    '''\n",
    "    l = 2/(sigma**2) - 3 * 2/sigma\n",
    "    r = 3 * 2/sigma + 2/(sigma**2)\n",
    "    step = (r - l) * Pr_er\n",
    "    ans = []\n",
    "    for i in range(int(1/Pr_er) + 1):\n",
    "        ans.append(l)\n",
    "        l += step\n",
    "    return np.array(ans)"
   ]
  },
  {
   "cell_type": "code",
   "execution_count": 8,
   "id": "c21e7e88",
   "metadata": {},
   "outputs": [],
   "source": [
    "def generate_density_mv(sigma, Pr_er):\n",
    "    '''\n",
    "    returns array with values of normal density using three sigma rule\n",
    "    '''\n",
    "    l = 2/(sigma**2) - 3 * 2/sigma\n",
    "    r = 3 * 2/(sigma) + 2/(sigma**2)\n",
    "    step = (r - l) * Pr_er\n",
    "    ans = []\n",
    "    for i in range(int(1/Pr_er) + 1):\n",
    "        ans.append(normal(l, 2/(sigma**2), 4/(sigma ** 2)))\n",
    "        l += step\n",
    "    return np.array(ans)"
   ]
  },
  {
   "cell_type": "code",
   "execution_count": 9,
   "id": "e3d6fcf9",
   "metadata": {},
   "outputs": [],
   "source": [
    "p_v = generate_density_mv(sigma, Pr_er)"
   ]
  },
  {
   "cell_type": "code",
   "execution_count": 10,
   "id": "133de597",
   "metadata": {},
   "outputs": [],
   "source": [
    "mv_init = mv(sigma, Pr_er)"
   ]
  },
  {
   "cell_type": "code",
   "execution_count": 13,
   "id": "890bdf32",
   "metadata": {},
   "outputs": [
    {
     "data": {
      "text/plain": [
       "[<matplotlib.lines.Line2D at 0x7fb2efc494f0>]"
      ]
     },
     "execution_count": 13,
     "metadata": {},
     "output_type": "execute_result"
    },
    {
     "data": {
      "image/png": "[encoded data removed]",
      "text/plain": [
       "<Figure size 640x480 with 1 Axes>"
      ]
     },
     "metadata": {},
     "output_type": "display_data"
    }
   ],
   "source": [
    "plt.plot(mv_init, p_v)"
   ]
  },
  {
   "cell_type": "code",
   "execution_count": 26,
   "id": "4294958e",
   "metadata": {},
   "outputs": [],
   "source": [
    "def mv_vector_func(mv_init):\n",
    "    '''\n",
    "    creates double array with sign + absolute value of mv\n",
    "    '''\n",
    "    ans = np.zeros(shape=(len(mv_init), 2))\n",
    "    for i in range(len(p_v)):\n",
    "        if mv_init[i] > 0:\n",
    "            ans[i] = [0, abs(mv_init[i])]\n",
    "        else:\n",
    "            ans[i] = [1, abs(mv_init[i])]\n",
    "    return ans"
   ]
  },
  {
   "cell_type": "code",
   "execution_count": 27,
   "id": "fbb6bf7d",
   "metadata": {},
   "outputs": [],
   "source": [
    "mv_vector = mv_vector_func(mv_init)"
   ]
  },
  {
   "cell_type": "code",
   "execution_count": 33,
   "id": "d9c256a7",
   "metadata": {},
   "outputs": [],
   "source": [
    "def z_arguments(mv_vector):\n",
    "    '''\n",
    "    computes arguments for density of Z\n",
    "    '''\n",
    "    z_i = np.zeros(shape=(len(mv_vector), 2))\n",
    "    for i in range(len(mv_vector)):\n",
    "        z_i[i] = [mv_vector[i, 0], phi(mv_vector[i, 1])]\n",
    "    return z_i"
   ]
  },
  {
   "cell_type": "code",
   "execution_count": 34,
   "id": "12b028a6",
   "metadata": {},
   "outputs": [],
   "source": [
    "def merge_density(mv, p_v):\n",
    "    '''\n",
    "    creates dictionary of argument and value of density \n",
    "    '''\n",
    "    return dict(zip(mv, p_v))"
   ]
  },
  {
   "cell_type": "code",
   "execution_count": 35,
   "id": "9641dd7e",
   "metadata": {},
   "outputs": [],
   "source": [
    "merged_density = merge_density(mv_init, p_v)"
   ]
  },
  {
   "cell_type": "code",
   "execution_count": 36,
   "id": "079ef0ca",
   "metadata": {},
   "outputs": [],
   "source": [
    "z = np.array(z_arguments(mv_vector))"
   ]
  },
  {
   "cell_type": "code",
   "execution_count": 37,
   "id": "6b065e8e",
   "metadata": {},
   "outputs": [
    {
     "data": {
      "text/plain": [
       "[<matplotlib.lines.Line2D at 0x7fb2f0878820>,\n",
       " <matplotlib.lines.Line2D at 0x7fb2f0878880>]"
      ]
     },
     "execution_count": 37,
     "metadata": {},
     "output_type": "execute_result"
    },
    {
     "data": {
      "image/png": "[encoded data removed]",
      "text/plain": [
       "<Figure size 640x480 with 1 Axes>"
      ]
     },
     "metadata": {},
     "output_type": "display_data"
    }
   ],
   "source": [
    "plt.plot(z)"
   ]
  },
  {
   "cell_type": "code",
   "execution_count": 41,
   "id": "c9bd5c95",
   "metadata": {},
   "outputs": [],
   "source": [
    "def compute_z_density(z, mv_init, merged_density):\n",
    "    '''\n",
    "    compute values of z density\n",
    "    '''\n",
    "    ans = np.zeros(shape=(2, len(mv_init)))\n",
    "    for i in range(len(z)):\n",
    "        ans[0, i] = (1/np.sinh(z[i, 1])) * merged_density[mv_init[i]]\n",
    "        ans[1, i] = (1/np.sinh(z[i, 1])) * merged_density[mv_init[i]]\n",
    "    return ans"
   ]
  },
  {
   "cell_type": "code",
   "execution_count": 42,
   "id": "1139284e",
   "metadata": {},
   "outputs": [],
   "source": [
    "p_z = compute_z_density(z, mv_init, merged_density)"
   ]
  },
  {
   "cell_type": "code",
   "execution_count": null,
   "id": "6d76721a",
   "metadata": {},
   "outputs": [],
   "source": [
    "def w_compute(z):\n",
    "    "
   ]
  },
  {
   "cell_type": "code",
   "execution_count": 29,
   "id": "4b5b5ccb",
   "metadata": {},
   "outputs": [],
   "source": [
    "def density_w(p_z):\n",
    "    '''\n",
    "    computes values of w density\n",
    "    '''\n",
    "    return scipy.fft.ifft2(scipy.fft.fft2(p_z) ** (d_c - 1)).real"
   ]
  },
  {
   "cell_type": "code",
   "execution_count": 30,
   "id": "5aad36ee",
   "metadata": {},
   "outputs": [],
   "source": [
    "density_w = density_w(p_z)"
   ]
  },
  {
   "cell_type": "code",
   "execution_count": 42,
   "id": "878d38db",
   "metadata": {},
   "outputs": [
    {
     "data": {
      "text/plain": [
       "[<matplotlib.lines.Line2D at 0x7f9721708490>]"
      ]
     },
     "execution_count": 42,
     "metadata": {},
     "output_type": "execute_result"
    },
    {
     "data": {
      "image/png": "[encoded data removed]",
      "text/plain": [
       "<Figure size 640x480 with 1 Axes>"
      ]
     },
     "metadata": {},
     "output_type": "display_data"
    }
   ],
   "source": [
    "plt.plot(density_w[0])"
   ]
  },
  {
   "cell_type": "code",
   "execution_count": 53,
   "id": "536a4ea6",
   "metadata": {},
   "outputs": [],
   "source": [
    "def p_c(w):\n",
    "    ans = np.zeros(shape=(len(w), 2))\n",
    "    for i in range(len(w)):\n",
    "        if (w[i, 0] == 0):\n",
    "            ans[i] = [0, phi(w[i, ])]\n",
    "        else:\n",
    "            ans[i] = [1, phi(-w[i, 1])]\n",
    "    return ans"
   ]
  },
  {
   "cell_type": "code",
   "execution_count": 113,
   "id": "764c95d3",
   "metadata": {},
   "outputs": [
    {
     "name": "stderr",
     "output_type": "stream",
     "text": [
      "/var/folders/x6/b_ylqyd127s0ckfw_r19b2880000gn/T/ipykernel_1218/897705512.py:5: ComplexWarning: Casting complex values to real discards the imaginary part\n",
      "  ans[i] = [0, phi(w[i, 1])]\n"
     ]
    }
   ],
   "source": [
    "c_dist = p_c(w)"
   ]
  },
  {
   "cell_type": "code",
   "execution_count": 115,
   "id": "7a92fc19",
   "metadata": {},
   "outputs": [
    {
     "data": {
      "text/plain": [
       "[<matplotlib.lines.Line2D at 0x7fed635518b0>,\n",
       " <matplotlib.lines.Line2D at 0x7fed63551940>]"
      ]
     },
     "execution_count": 115,
     "metadata": {},
     "output_type": "execute_result"
    },
    {
     "data": {
      "image/png": "[encoded data removed]",
      "text/plain": [
       "<Figure size 640x480 with 1 Axes>"
      ]
     },
     "metadata": {},
     "output_type": "display_data"
    }
   ],
   "source": [
    "plt.plot(c_dist)"
   ]
  },
  {
   "cell_type": "code",
   "execution_count": null,
   "id": "c281eb3e",
   "metadata": {},
   "outputs": [],
   "source": [
    "def p_v_update(p_v, c_dist):\n",
    "    "
   ]
  },
  {
   "cell_type": "code",
   "execution_count": 11,
   "id": "55bc89a7",
   "metadata": {},
   "outputs": [],
   "source": [
    "def stop_kritetia():\n",
    "    result = integrate.quad(lambda x: p_v(x), -inf, 0)\n",
    "    return (result < Pr_er)"
   ]
  },
  {
   "cell_type": "code",
   "execution_count": null,
   "id": "7563bd35",
   "metadata": {},
   "outputs": [],
   "source": [
    "while True:\n",
    "    z = []\n",
    "    w = [0, 0]\n",
    "    if (l == 1):\n",
    "        z_compute()\n",
    "        w_compute()\n",
    "        \n",
    "        p_c_update()\n",
    "        \n",
    "    if stop_kritetia()\n",
    "    return l"
   ]
  },
  {
   "cell_type": "code",
   "execution_count": null,
   "id": "deacfba4",
   "metadata": {},
   "outputs": [],
   "source": [
    "array = np"
   ]
  },
  {
   "cell_type": "code",
   "execution_count": null,
   "id": "3ae91336",
   "metadata": {},
   "outputs": [],
   "source": []
  }
 ],
 "metadata": {
  "kernelspec": {
   "display_name": "Python 3 (ipykernel)",
   "language": "python",
   "name": "python3"
  },
  "language_info": {
   "codemirror_mode": {
    "name": "ipython",
    "version": 3
   },
   "file_extension": ".py",
   "mimetype": "text/x-python",
   "name": "python",
   "nbconvert_exporter": "python",
   "pygments_lexer": "ipython3",
   "version": "3.9.13"
  }
 },
 "nbformat": 4,
 "nbformat_minor": 5
}
