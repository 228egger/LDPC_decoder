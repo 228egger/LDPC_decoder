{
 "cells": [
  {
   "cell_type": "code",
   "execution_count": 1,
   "id": "1a64ae9f",
   "metadata": {},
   "outputs": [],
   "source": [
    "from scipy.fft import fft, ifft\n",
    "import matplotlib.pyplot as plt\n",
    "import numpy as np\n",
    "import scipy.stats as stats\n",
    "import math\n",
    "from math import e, log\n",
    "import pandas as pd\n",
    "from sklearn import datasets\n",
    "import seaborn as sns"
   ]
  },
  {
   "cell_type": "code",
   "execution_count": null,
   "id": "898e61fb",
   "metadata": {},
   "outputs": [],
   "source": [
    "size_of_sample = 2000\n",
    "max_l = 100\n",
    "l = 0\n",
    "Pr_er = 10**(-10)\n",
    "H = np.array([[1, 1, 1, 1, 1, 1, 0, 0, 0, 0, 0, 0], \n",
    "             [1, 0, 0, 0, 0, 0, 1, 1, 1, 1, 1, 0], \n",
    "             [1, 0, 1, 0, 1, 0, 1, 0, 1, 0, 1, 0],\n",
    "             [0, 1, 0, 1, 0, 1, 0, 1, 0, 1, 0, 1],\n",
    "             [0, 0, 1, 1, 0, 0, 1, 1, 0, 0, 1, 1],\n",
    "             [0, 1, 0, 0, 1, 1, 0, 0, 1, 1, 0, 1]])"
   ]
  },
  {
   "cell_type": "code",
   "execution_count": 15,
   "id": "ffbf988b",
   "metadata": {},
   "outputs": [],
   "source": [
    "sigma = 1\n",
    "m_0 = np.random.normal(2/(sigma**2), 4/(sigma ** 2), 12)\n",
    "message_v = [1 + m_0[i] for i in range(12)]\n",
    "message_c = [0 for i in range(6)]\n",
    "density_c = [0 for i in range(6)]\n",
    "density_v = m_0\n",
    "message_v_ = []\n",
    "message_c_ = []\n",
    "z = []\n",
    "w = 0\n",
    "for i in range(len(message_v)):\n",
    "    if (message_v[i] > 0):\n",
    "        message_c_append([0, abs(message_c[i])])\n",
    "        message_v_.append([0, abs(message_v[i])])\n",
    "    else:\n",
    "        message_c_append([1, abs(message_c[i])])\n",
    "        message_v_.append([1, abs(message_v[i])])"
   ]
  },
  {
   "cell_type": "code",
   "execution_count": 2,
   "id": "d3013e86",
   "metadata": {},
   "outputs": [],
   "source": [
    "def phi(x):\n",
    "    return -np.log(np.tanh(x / 2))"
   ]
  },
  {
   "cell_type": "code",
   "execution_count": null,
   "id": "d9c256a7",
   "metadata": {},
   "outputs": [],
   "source": [
    "def z_compute():\n",
    "    z = []\n",
    "    for i in range(len(message_v_)):\n",
    "        if (message_v_[i][0] == 0):\n",
    "            z.append([0, phi(message_v_[i][1])])\n",
    "        else:\n",
    "            z.append([1, phi(message_v_[i][1])])"
   ]
  },
  {
   "cell_type": "code",
   "execution_count": null,
   "id": "34da21fc",
   "metadata": {},
   "outputs": [],
   "source": [
    "def density_z(s, z_i):\n",
    "    if (s):\n",
    "        return (1/(np.sinh(z_i)))"
   ]
  },
  {
   "cell_type": "code",
   "execution_count": null,
   "id": "ca8f667b",
   "metadata": {},
   "outputs": [],
   "source": [
    "def w_compute():\n",
    "    w = 0\n",
    "    for i in z:\n",
    "        w += i"
   ]
  },
  {
   "cell_type": "code",
   "execution_count": null,
   "id": "67b8f9f8",
   "metadata": {},
   "outputs": [],
   "source": []
  }
 ],
 "metadata": {
  "kernelspec": {
   "display_name": "Python 3 (ipykernel)",
   "language": "python",
   "name": "python3"
  },
  "language_info": {
   "codemirror_mode": {
    "name": "ipython",
    "version": 3
   },
   "file_extension": ".py",
   "mimetype": "text/x-python",
   "name": "python",
   "nbconvert_exporter": "python",
   "pygments_lexer": "ipython3",
   "version": "3.9.13"
  }
 },
 "nbformat": 4,
 "nbformat_minor": 5
}
