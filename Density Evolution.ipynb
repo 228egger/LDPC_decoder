{
 "cells": [
  {
   "cell_type": "code",
   "execution_count": 78,
   "id": "1a64ae9f",
   "metadata": {},
   "outputs": [],
   "source": [
    "from scipy.fft import fft, fft2, ifft2\n",
    "import matplotlib.pyplot as plt\n",
    "import scipy\n",
    "import numpy as np\n",
    "import scipy.stats as stats\n",
    "import scipy.integrate as integrate\n",
    "import math\n",
    "from math import e, log\n",
    "import pandas as pd\n",
    "from sklearn import datasets\n",
    "import seaborn as sns"
   ]
  },
  {
   "cell_type": "code",
   "execution_count": 79,
   "id": "898e61fb",
   "metadata": {},
   "outputs": [],
   "source": [
    "max_l = 100\n",
    "l = 0\n",
    "Pr_er = 10**(-3)\n",
    "sigma = 0.8\n",
    "H = np.array([[1, 1, 1, 1, 1, 1, 0, 0, 0, 0, 0, 0], \n",
    "             [1, 0, 0, 0, 0, 0, 1, 1, 1, 1, 1, 0], \n",
    "             [1, 0, 1, 0, 1, 0, 1, 0, 1, 0, 1, 0],\n",
    "             [0, 1, 0, 1, 0, 1, 0, 1, 0, 1, 0, 1],\n",
    "             [0, 0, 1, 1, 0, 0, 1, 1, 0, 0, 1, 1],\n",
    "             [0, 1, 0, 0, 1, 1, 0, 0, 1, 1, 0, 1]])"
   ]
  },
  {
   "cell_type": "code",
   "execution_count": 80,
   "id": "75efb366",
   "metadata": {},
   "outputs": [],
   "source": [
    "d_c = 6"
   ]
  },
  {
   "cell_type": "code",
   "execution_count": 81,
   "id": "36ac90a0",
   "metadata": {},
   "outputs": [],
   "source": [
    "def find_nearest(array,value):\n",
    "    idx = np.searchsorted(array, value, side=\"left\")\n",
    "    if idx > 0 and (idx == len(array) or math.fabs(value - array[idx-1]) < math.fabs(value - array[idx])):\n",
    "        return array[idx-1]\n",
    "    else:\n",
    "        return array[idx]"
   ]
  },
  {
   "cell_type": "code",
   "execution_count": 82,
   "id": "d3013e86",
   "metadata": {},
   "outputs": [],
   "source": [
    "def phi(x):\n",
    "    return -np.log(np.tanh(x / 2))"
   ]
  },
  {
   "cell_type": "code",
   "execution_count": 83,
   "id": "f97571c4",
   "metadata": {},
   "outputs": [],
   "source": [
    "def normal(x, mu, sigma):\n",
    "    return np.exp(-pow(mu - x, 2)/(2 * pow(sigma, 2))) / (sigma * np.sqrt(2*np.pi))"
   ]
  },
  {
   "cell_type": "code",
   "execution_count": 84,
   "id": "423dedb3",
   "metadata": {},
   "outputs": [],
   "source": [
    "esult = integrate.quad(lambda x: normal(x, 2/(sigma**2), 4/(sigma ** 2)), 2/(sigma**2) - 3 * 2/(sigma), 2/(sigma**2) + 3 * 2/(sigma))"
   ]
  },
  {
   "cell_type": "code",
   "execution_count": 85,
   "id": "6b2679ae",
   "metadata": {},
   "outputs": [],
   "source": [
    "def y(sigma, Pr_er):\n",
    "    l = 2/(sigma**2) - 3 * 2/sigma\n",
    "    r = 3 * 2/sigma + 2/(sigma**2)\n",
    "    step = (r - l) * Pr_er\n",
    "    ans = []\n",
    "    for i in range(int(1/Pr_er) + 1):\n",
    "        ans.append(l)\n",
    "        l += step\n",
    "    return ans"
   ]
  },
  {
   "cell_type": "code",
   "execution_count": 86,
   "id": "c21e7e88",
   "metadata": {},
   "outputs": [],
   "source": [
    "def generate_density(sigma, Pr_er):\n",
    "    l = 2/(sigma**2) - 3 * 2/sigma\n",
    "    r = 3 * 2/(sigma) + 2/(sigma**2)\n",
    "    step = (r - l) * Pr_er\n",
    "    ans = []\n",
    "    for i in range(int(1/Pr_er) + 1):\n",
    "        ans.append(normal(l, 2/(sigma**2), 4/(sigma ** 2)))\n",
    "        l += step\n",
    "    return ans"
   ]
  },
  {
   "cell_type": "code",
   "execution_count": 87,
   "id": "e3d6fcf9",
   "metadata": {},
   "outputs": [],
   "source": [
    "p_v = generate_density(sigma, Pr_er)"
   ]
  },
  {
   "cell_type": "code",
   "execution_count": 88,
   "id": "133de597",
   "metadata": {},
   "outputs": [],
   "source": [
    "y_arr = y(sigma, Pr_er)"
   ]
  },
  {
   "cell_type": "code",
   "execution_count": 89,
   "id": "0c556508",
   "metadata": {},
   "outputs": [],
   "source": [
    "p_v = np.array(p_v)\n",
    "p_v = p_v / p_v.sum()"
   ]
  },
  {
   "cell_type": "code",
   "execution_count": 90,
   "id": "890bdf32",
   "metadata": {},
   "outputs": [
    {
     "data": {
      "text/plain": [
       "[<matplotlib.lines.Line2D at 0x7fcc4bb29af0>]"
      ]
     },
     "execution_count": 90,
     "metadata": {},
     "output_type": "execute_result"
    },
    {
     "data": {
      "image/png": "[encoded data removed]",
      "text/plain": [
       "<Figure size 640x480 with 1 Axes>"
      ]
     },
     "metadata": {},
     "output_type": "display_data"
    }
   ],
   "source": [
    "plt.plot(y_arr, p_v)"
   ]
  },
  {
   "cell_type": "code",
   "execution_count": 91,
   "id": "4294958e",
   "metadata": {},
   "outputs": [],
   "source": [
    "def m_i(y_arr):\n",
    "    ans = np.zeros(shape=(len(y_arr), 2))\n",
    "    for i in range(len(p_v)):\n",
    "        if y_arr[i] > 0:\n",
    "            ans[i] = [0, abs(y_arr[i])]\n",
    "        else:\n",
    "            ans[i] = [1, abs(y_arr[i])]\n",
    "    return ans"
   ]
  },
  {
   "cell_type": "code",
   "execution_count": 92,
   "id": "fbb6bf7d",
   "metadata": {},
   "outputs": [],
   "source": [
    "m_i = m_i(y_arr)"
   ]
  },
  {
   "cell_type": "code",
   "execution_count": 93,
   "id": "d9c256a7",
   "metadata": {},
   "outputs": [],
   "source": [
    "def z_compute(m):\n",
    "    z_i = np.zeros(shape=(len(m), 2))\n",
    "    for i in range(len(m)):\n",
    "        z_i[i] = [m[i, 0], phi(m[i, 1])]\n",
    "    return z_i"
   ]
  },
  {
   "cell_type": "code",
   "execution_count": 100,
   "id": "12b028a6",
   "metadata": {},
   "outputs": [],
   "source": [
    "def p_func_v(y_arr, p_v):\n",
    "    return dict(zip(y_arr, p_v))"
   ]
  },
  {
   "cell_type": "code",
   "execution_count": 101,
   "id": "9641dd7e",
   "metadata": {},
   "outputs": [],
   "source": [
    "p_func_v = p_func_v(y_arr, p_v)"
   ]
  },
  {
   "cell_type": "code",
   "execution_count": 94,
   "id": "079ef0ca",
   "metadata": {},
   "outputs": [],
   "source": [
    "z = np.array(z_compute(m_i))"
   ]
  },
  {
   "cell_type": "code",
   "execution_count": 95,
   "id": "6b065e8e",
   "metadata": {},
   "outputs": [
    {
     "data": {
      "text/plain": [
       "[<matplotlib.lines.Line2D at 0x7fcc4bd98280>,\n",
       " <matplotlib.lines.Line2D at 0x7fcc4bd98310>]"
      ]
     },
     "execution_count": 95,
     "metadata": {},
     "output_type": "execute_result"
    },
    {
     "data": {
      "image/png": "[encoded data removed]",
      "text/plain": [
       "<Figure size 640x480 with 1 Axes>"
      ]
     },
     "metadata": {},
     "output_type": "display_data"
    }
   ],
   "source": [
    "plt.plot(z)"
   ]
  },
  {
   "cell_type": "code",
   "execution_count": 96,
   "id": "c9bd5c95",
   "metadata": {},
   "outputs": [],
   "source": [
    "def density_z(z, y_arr):\n",
    "    ans = np.zeros(shape=(2, len(y_arr)))\n",
    "    for i in range(len(z)):\n",
    "        ans[0, i] = (1/np.sinh(z[i, 1])) * p_func_v[y_arr[i]]\n",
    "        ans[1, i] = (1/np.sinh(z[i, 1])) * p_func_v[y_arr[i]]\n",
    "    return ans"
   ]
  },
  {
   "cell_type": "code",
   "execution_count": 97,
   "id": "1139284e",
   "metadata": {},
   "outputs": [
    {
     "ename": "NameError",
     "evalue": "name 'p_func_v' is not defined",
     "output_type": "error",
     "traceback": [
      "\u001b[0;31m---------------------------------------------------------------------------\u001b[0m",
      "\u001b[0;31mNameError\u001b[0m                                 Traceback (most recent call last)",
      "\u001b[0;32m/var/folders/x6/b_ylqyd127s0ckfw_r19b2880000gn/T/ipykernel_18552/1081474265.py\u001b[0m in \u001b[0;36m<module>\u001b[0;34m\u001b[0m\n\u001b[0;32m----> 1\u001b[0;31m \u001b[0mp_z\u001b[0m \u001b[0;34m=\u001b[0m \u001b[0mdensity_z\u001b[0m\u001b[0;34m(\u001b[0m\u001b[0mz\u001b[0m\u001b[0;34m,\u001b[0m \u001b[0my_arr\u001b[0m\u001b[0;34m)\u001b[0m\u001b[0;34m\u001b[0m\u001b[0;34m\u001b[0m\u001b[0m\n\u001b[0m",
      "\u001b[0;32m/var/folders/x6/b_ylqyd127s0ckfw_r19b2880000gn/T/ipykernel_18552/4105485318.py\u001b[0m in \u001b[0;36mdensity_z\u001b[0;34m(z, y_arr)\u001b[0m\n\u001b[1;32m      2\u001b[0m     \u001b[0mans\u001b[0m \u001b[0;34m=\u001b[0m \u001b[0mnp\u001b[0m\u001b[0;34m.\u001b[0m\u001b[0mzeros\u001b[0m\u001b[0;34m(\u001b[0m\u001b[0mshape\u001b[0m\u001b[0;34m=\u001b[0m\u001b[0;34m(\u001b[0m\u001b[0;36m2\u001b[0m\u001b[0;34m,\u001b[0m \u001b[0mlen\u001b[0m\u001b[0;34m(\u001b[0m\u001b[0my_arr\u001b[0m\u001b[0;34m)\u001b[0m\u001b[0;34m)\u001b[0m\u001b[0;34m)\u001b[0m\u001b[0;34m\u001b[0m\u001b[0;34m\u001b[0m\u001b[0m\n\u001b[1;32m      3\u001b[0m     \u001b[0;32mfor\u001b[0m \u001b[0mi\u001b[0m \u001b[0;32min\u001b[0m \u001b[0mrange\u001b[0m\u001b[0;34m(\u001b[0m\u001b[0mlen\u001b[0m\u001b[0;34m(\u001b[0m\u001b[0mz\u001b[0m\u001b[0;34m)\u001b[0m\u001b[0;34m)\u001b[0m\u001b[0;34m:\u001b[0m\u001b[0;34m\u001b[0m\u001b[0;34m\u001b[0m\u001b[0m\n\u001b[0;32m----> 4\u001b[0;31m         \u001b[0mans\u001b[0m\u001b[0;34m[\u001b[0m\u001b[0;36m0\u001b[0m\u001b[0;34m,\u001b[0m \u001b[0mi\u001b[0m\u001b[0;34m]\u001b[0m \u001b[0;34m=\u001b[0m \u001b[0;34m(\u001b[0m\u001b[0;36m1\u001b[0m\u001b[0;34m/\u001b[0m\u001b[0mnp\u001b[0m\u001b[0;34m.\u001b[0m\u001b[0msinh\u001b[0m\u001b[0;34m(\u001b[0m\u001b[0mz\u001b[0m\u001b[0;34m[\u001b[0m\u001b[0mi\u001b[0m\u001b[0;34m,\u001b[0m \u001b[0;36m1\u001b[0m\u001b[0;34m]\u001b[0m\u001b[0;34m)\u001b[0m\u001b[0;34m)\u001b[0m \u001b[0;34m*\u001b[0m \u001b[0mp_func_v\u001b[0m\u001b[0;34m[\u001b[0m\u001b[0my_arr\u001b[0m\u001b[0;34m[\u001b[0m\u001b[0mi\u001b[0m\u001b[0;34m]\u001b[0m\u001b[0;34m]\u001b[0m\u001b[0;34m\u001b[0m\u001b[0;34m\u001b[0m\u001b[0m\n\u001b[0m\u001b[1;32m      5\u001b[0m         \u001b[0mans\u001b[0m\u001b[0;34m[\u001b[0m\u001b[0;36m1\u001b[0m\u001b[0;34m,\u001b[0m \u001b[0mi\u001b[0m\u001b[0;34m]\u001b[0m \u001b[0;34m=\u001b[0m \u001b[0;34m(\u001b[0m\u001b[0;36m1\u001b[0m\u001b[0;34m/\u001b[0m\u001b[0mnp\u001b[0m\u001b[0;34m.\u001b[0m\u001b[0msinh\u001b[0m\u001b[0;34m(\u001b[0m\u001b[0mz\u001b[0m\u001b[0;34m[\u001b[0m\u001b[0mi\u001b[0m\u001b[0;34m,\u001b[0m \u001b[0;36m1\u001b[0m\u001b[0;34m]\u001b[0m\u001b[0;34m)\u001b[0m\u001b[0;34m)\u001b[0m \u001b[0;34m*\u001b[0m \u001b[0mp_func_v\u001b[0m\u001b[0;34m[\u001b[0m\u001b[0my_arr\u001b[0m\u001b[0;34m[\u001b[0m\u001b[0mi\u001b[0m\u001b[0;34m]\u001b[0m\u001b[0;34m]\u001b[0m\u001b[0;34m\u001b[0m\u001b[0;34m\u001b[0m\u001b[0m\n\u001b[1;32m      6\u001b[0m     \u001b[0;32mreturn\u001b[0m \u001b[0mans\u001b[0m\u001b[0;34m\u001b[0m\u001b[0;34m\u001b[0m\u001b[0m\n",
      "\u001b[0;31mNameError\u001b[0m: name 'p_func_v' is not defined"
     ]
    }
   ],
   "source": [
    "p_z = density_z(z, y_arr)"
   ]
  },
  {
   "cell_type": "code",
   "execution_count": 22,
   "id": "3c3fc4ce",
   "metadata": {},
   "outputs": [],
   "source": [
    "p_z = p_z / p_z.sum()"
   ]
  },
  {
   "cell_type": "code",
   "execution_count": null,
   "id": "6d76721a",
   "metadata": {},
   "outputs": [],
   "source": [
    "def w_compute(z):\n",
    "    "
   ]
  },
  {
   "cell_type": "code",
   "execution_count": 29,
   "id": "4b5b5ccb",
   "metadata": {},
   "outputs": [],
   "source": [
    "def density_w(p_z):\n",
    "    return scipy.fft.ifft2(scipy.fft.fft2(p_z) ** (d_c - 1)).real"
   ]
  },
  {
   "cell_type": "code",
   "execution_count": 30,
   "id": "5aad36ee",
   "metadata": {},
   "outputs": [],
   "source": [
    "density_w = density_w(p_z)"
   ]
  },
  {
   "cell_type": "code",
   "execution_count": 42,
   "id": "878d38db",
   "metadata": {},
   "outputs": [
    {
     "data": {
      "text/plain": [
       "[<matplotlib.lines.Line2D at 0x7f9721708490>]"
      ]
     },
     "execution_count": 42,
     "metadata": {},
     "output_type": "execute_result"
    },
    {
     "data": {
      "image/png": "[encoded data removed]",
      "text/plain": [
       "<Figure size 640x480 with 1 Axes>"
      ]
     },
     "metadata": {},
     "output_type": "display_data"
    }
   ],
   "source": [
    "plt.plot(density_w[0])"
   ]
  },
  {
   "cell_type": "code",
   "execution_count": 53,
   "id": "536a4ea6",
   "metadata": {},
   "outputs": [],
   "source": [
    "def p_c(w):\n",
    "    ans = np.zeros(shape=(len(w), 2))\n",
    "    for i in range(len(w)):\n",
    "        if (w[i, 0] == 0):\n",
    "            ans[i] = [0, phi(w[i, ])]\n",
    "        else:\n",
    "            ans[i] = [1, phi(-w[i, 1])]\n",
    "    return ans"
   ]
  },
  {
   "cell_type": "code",
   "execution_count": 113,
   "id": "764c95d3",
   "metadata": {},
   "outputs": [
    {
     "name": "stderr",
     "output_type": "stream",
     "text": [
      "/var/folders/x6/b_ylqyd127s0ckfw_r19b2880000gn/T/ipykernel_1218/897705512.py:5: ComplexWarning: Casting complex values to real discards the imaginary part\n",
      "  ans[i] = [0, phi(w[i, 1])]\n"
     ]
    }
   ],
   "source": [
    "c_dist = p_c(w)"
   ]
  },
  {
   "cell_type": "code",
   "execution_count": 115,
   "id": "7a92fc19",
   "metadata": {},
   "outputs": [
    {
     "data": {
      "text/plain": [
       "[<matplotlib.lines.Line2D at 0x7fed635518b0>,\n",
       " <matplotlib.lines.Line2D at 0x7fed63551940>]"
      ]
     },
     "execution_count": 115,
     "metadata": {},
     "output_type": "execute_result"
    },
    {
     "data": {
      "image/png": "[encoded data removed]",
      "text/plain": [
       "<Figure size 640x480 with 1 Axes>"
      ]
     },
     "metadata": {},
     "output_type": "display_data"
    }
   ],
   "source": [
    "plt.plot(c_dist)"
   ]
  },
  {
   "cell_type": "code",
   "execution_count": null,
   "id": "c281eb3e",
   "metadata": {},
   "outputs": [],
   "source": [
    "def p_v_update(p_v, c_dist):\n",
    "    "
   ]
  },
  {
   "cell_type": "code",
   "execution_count": 11,
   "id": "55bc89a7",
   "metadata": {},
   "outputs": [],
   "source": [
    "def stop_kritetia():\n",
    "    result = integrate.quad(lambda x: p_v(x), -inf, 0)\n",
    "    return (result < Pr_er)"
   ]
  },
  {
   "cell_type": "code",
   "execution_count": null,
   "id": "7563bd35",
   "metadata": {},
   "outputs": [],
   "source": [
    "while True:\n",
    "    z = []\n",
    "    w = [0, 0]\n",
    "    if (l == 1):\n",
    "        z_compute()\n",
    "        w_compute()\n",
    "        \n",
    "        p_c_update()\n",
    "        \n",
    "    if stop_kritetia()\n",
    "    return l"
   ]
  },
  {
   "cell_type": "code",
   "execution_count": 11,
   "id": "6c4470a0",
   "metadata": {},
   "outputs": [
    {
     "name": "stdout",
     "output_type": "stream",
     "text": [
      "Veni, vidi, vici\n"
     ]
    },
    {
     "ename": "TypeError",
     "evalue": "'str' object does not support item assignment",
     "output_type": "error",
     "traceback": [
      "\u001b[0;31m---------------------------------------------------------------------------\u001b[0m",
      "\u001b[0;31mTypeError\u001b[0m                                 Traceback (most recent call last)",
      "\u001b[0;32m/var/folders/x6/b_ylqyd127s0ckfw_r19b2880000gn/T/ipykernel_18552/3661854555.py\u001b[0m in \u001b[0;36m<module>\u001b[0;34m\u001b[0m\n\u001b[1;32m      3\u001b[0m \u001b[0;32mfor\u001b[0m \u001b[0mi\u001b[0m \u001b[0;32min\u001b[0m \u001b[0mrange\u001b[0m\u001b[0;34m(\u001b[0m\u001b[0mlen\u001b[0m\u001b[0;34m(\u001b[0m\u001b[0ms\u001b[0m\u001b[0;34m)\u001b[0m\u001b[0;34m)\u001b[0m\u001b[0;34m:\u001b[0m\u001b[0;34m\u001b[0m\u001b[0;34m\u001b[0m\u001b[0m\n\u001b[1;32m      4\u001b[0m     \u001b[0;32mif\u001b[0m \u001b[0ms\u001b[0m\u001b[0;34m[\u001b[0m\u001b[0mi\u001b[0m\u001b[0;34m]\u001b[0m\u001b[0;34m.\u001b[0m\u001b[0misalpha\u001b[0m\u001b[0;34m(\u001b[0m\u001b[0;34m)\u001b[0m\u001b[0;34m:\u001b[0m\u001b[0;34m\u001b[0m\u001b[0;34m\u001b[0m\u001b[0m\n\u001b[0;32m----> 5\u001b[0;31m         \u001b[0ms_\u001b[0m\u001b[0;34m[\u001b[0m\u001b[0mi\u001b[0m\u001b[0;34m]\u001b[0m \u001b[0;34m=\u001b[0m \u001b[0mchr\u001b[0m\u001b[0;34m(\u001b[0m\u001b[0mord\u001b[0m\u001b[0;34m(\u001b[0m\u001b[0ms\u001b[0m\u001b[0;34m[\u001b[0m\u001b[0mi\u001b[0m\u001b[0;34m]\u001b[0m\u001b[0;34m)\u001b[0m \u001b[0;34m+\u001b[0m \u001b[0;36m1\u001b[0m\u001b[0;34m)\u001b[0m\u001b[0;34m\u001b[0m\u001b[0;34m\u001b[0m\u001b[0m\n\u001b[0m\u001b[1;32m      6\u001b[0m \u001b[0mprint\u001b[0m\u001b[0;34m(\u001b[0m\u001b[0ms_\u001b[0m\u001b[0;34m)\u001b[0m\u001b[0;34m\u001b[0m\u001b[0;34m\u001b[0m\u001b[0m\n",
      "\u001b[0;31mTypeError\u001b[0m: 'str' object does not support item assignment"
     ]
    }
   ],
   "source": [
    "s = input()\n",
    "s_ = ''\n",
    "for i in range(len(s)):\n",
    "    if s[i].isalpha():\n",
    "        s_[i] = chr(ord(s[i]) + 1)\n",
    "print(s_)"
   ]
  },
  {
   "cell_type": "code",
   "execution_count": null,
   "id": "deacfba4",
   "metadata": {},
   "outputs": [],
   "source": []
  },
  {
   "cell_type": "code",
   "execution_count": null,
   "id": "3ae91336",
   "metadata": {},
   "outputs": [],
   "source": []
  }
 ],
 "metadata": {
  "kernelspec": {
   "display_name": "Python 3 (ipykernel)",
   "language": "python",
   "name": "python3"
  },
  "language_info": {
   "codemirror_mode": {
    "name": "ipython",
    "version": 3
   },
   "file_extension": ".py",
   "mimetype": "text/x-python",
   "name": "python",
   "nbconvert_exporter": "python",
   "pygments_lexer": "ipython3",
   "version": "3.9.13"
  }
 },
 "nbformat": 4,
 "nbformat_minor": 5
}
