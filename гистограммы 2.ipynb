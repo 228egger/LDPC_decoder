{
 "cells": [
  {
   "cell_type": "code",
   "execution_count": 1,
   "id": "ea2b1e8f",
   "metadata": {},
   "outputs": [],
   "source": [
    "import matplotlib.pyplot as plt\n",
    "import numpy as np\n",
    "import scipy.stats as stats\n",
    "import math\n",
    "from math import e, log\n",
    "import pandas as pd\n",
    "from sklearn import datasets\n",
    "import seaborn as sns"
   ]
  },
  {
   "cell_type": "code",
   "execution_count": 2,
   "id": "f44a72bf",
   "metadata": {},
   "outputs": [],
   "source": [
    "size_of_sample = 2000\n",
    "max_l = 100\n",
    "l = 0\n",
    "H = np.array([[1, 1, 1, 1, 1, 1, 0, 0, 0, 0, 0, 0], \n",
    "             [1, 0, 0, 0, 0, 0, 1, 1, 1, 1, 1, 0], \n",
    "             [1, 0, 1, 0, 1, 0, 1, 0, 1, 0, 1, 0],\n",
    "             [0, 1, 0, 1, 0, 1, 0, 1, 0, 1, 0, 1],\n",
    "             [0, 0, 1, 1, 0, 0, 1, 1, 0, 0, 1, 1],\n",
    "             [0, 1, 0, 0, 1, 1, 0, 0, 1, 1, 0, 1]])"
   ]
  },
  {
   "cell_type": "code",
   "execution_count": 3,
   "id": "b4d87511",
   "metadata": {},
   "outputs": [],
   "source": [
    "L_dist = [[] for j in range(8)]"
   ]
  },
  {
   "cell_type": "code",
   "execution_count": 4,
   "id": "21cb431e",
   "metadata": {},
   "outputs": [],
   "source": [
    "def dist_update(l, L_i_j, L_j_i, L_j):\n",
    "    tmp = L_j[0]\n",
    "    for j in range(len(L_j_i[0])):\n",
    "            if (H[0][j]):\n",
    "                tmp += L_i_j[0][j]\n",
    "    if (float('-inf') < tmp < float('inf')):\n",
    "        if (l == 1):\n",
    "            L_dist[0].append(tmp)    \n",
    "        elif (l == 2):\n",
    "            L_dist[1].append(tmp)\n",
    "        elif (l == 5):\n",
    "            L_dist[2].append(tmp)\n",
    "        elif (l == 10):\n",
    "            L_dist[3].append(tmp)\n",
    "        elif (l == 20):\n",
    "            L_dist[4].append(tmp)\n",
    "        elif (l == 40):\n",
    "            L_dist[5].append(tmp)\n",
    "        elif (l == 80):\n",
    "            L_dist[6].append(tmp)\n",
    "        elif (l == 100):\n",
    "            L_dist[7].append(tmp)"
   ]
  },
  {
   "cell_type": "code",
   "execution_count": 5,
   "id": "1840b522",
   "metadata": {},
   "outputs": [],
   "source": [
    "def dc_update(L_j_i):\n",
    "    L_i_j = [[0 for i in range(12)] for j in range(6)]\n",
    "    for i in range(len(L_i_j)):\n",
    "        for j in range(len(L_i_j[0])):\n",
    "            tmp = 1\n",
    "            for k in range(len(L_i_j[0])):\n",
    "                if (k != j ):\n",
    "                    if (H[i][k]):\n",
    "                        tmp *= np.tanh(L_j_i[k][i] / 2)\n",
    "            L_i_j[i][j] = 2 * np.arctanh(tmp)\n",
    "    return L_i_j"
   ]
  },
  {
   "cell_type": "code",
   "execution_count": 6,
   "id": "05840382",
   "metadata": {},
   "outputs": [],
   "source": [
    "def dv_update(L_i_j, L_j_i, L_j):\n",
    "    for i in range(len(L_j_i)):\n",
    "        for j in range(len(L_j_i[0])):\n",
    "            tmp = L_j[i]\n",
    "            for k in range(len(L_j_i[0])):\n",
    "                if (k != j):\n",
    "                    if (H[k][i]):\n",
    "                        tmp += L_i_j[k][i]\n",
    "            L_j_i[i][j] = tmp\n",
    "    return L_j_i"
   ]
  },
  {
   "cell_type": "code",
   "execution_count": 7,
   "id": "6e7662ac",
   "metadata": {},
   "outputs": [],
   "source": [
    "def stop_kriteria(L_j_i, L_i_j, L_j, H, l):\n",
    "    mv = np.zeros(12)\n",
    "    for j in range(len(L_j_i)):\n",
    "        tmp = 0\n",
    "        for i in range(len(L_j_i[0])):\n",
    "            if (H[i][j]):\n",
    "                tmp += L_i_j[i][j]\n",
    "        if (tmp + L_j[j] < 0):\n",
    "            mv[j] = 1\n",
    "        else:\n",
    "            mv[j] = 0\n",
    "    if (np.dot(mv, H.T).all() == 0):\n",
    "        #print(\"got_it\\n\")\n",
    "        #print(mv)\n",
    "        #print(l)\n",
    "        return True\n",
    "    elif (l == max_l):\n",
    "        #print(\"max_iter_reach\")\n",
    "        return False\n",
    "    return 4"
   ]
  },
  {
   "cell_type": "code",
   "execution_count": 8,
   "id": "53ff0a85",
   "metadata": {},
   "outputs": [],
   "source": [
    "def iteration_of_sample(sigma):\n",
    "    nu = np.random.normal(0, sigma, 12)\n",
    "    l = 0\n",
    "    v = [1 for i in range(12)]\n",
    "    y = [v[i] + nu[i] for i in range(12)]\n",
    "    L_j = [2 * i / (sigma ** 2) for i in y]\n",
    "    L_j_i = [[L_j[j] if H[i][j] == 1 else 0 for i in range(6)] for j in range(12)]\n",
    "    L_i_j = [[0 for i in range(12)] for j in range(6)]\n",
    "    while True:\n",
    "        L_i_j = dc_update(L_j_i)\n",
    "        L_j_i = dv_update(L_i_j, L_j_i, L_j)\n",
    "        l += 1\n",
    "        dist_update(l, L_i_j, L_j_i, L_j)\n",
    "        if (stop_kriteria(L_j_i, L_i_j, L_j, H, l) != 4):\n",
    "            break\n",
    "    return l"
   ]
  },
  {
   "cell_type": "markdown",
   "id": "e9820e58",
   "metadata": {},
   "source": [
    "Рассмотрим распределение на v и u для сигмы, находящейся в районе трешхолда, на 1, 2, 5, 10, 20, 40, 80 итерациях, пока только для первой вершины"
   ]
  },
  {
   "cell_type": "code",
   "execution_count": 9,
   "id": "f1db53de",
   "metadata": {},
   "outputs": [],
   "source": [
    "sigma = 0.4\n",
    "i = 0\n",
    "while (i < size_of_sample):\n",
    "    iteration_of_sample(sigma)\n",
    "    i += 1"
   ]
  },
  {
   "cell_type": "code",
   "execution_count": 10,
   "id": "5ab8822c",
   "metadata": {},
   "outputs": [
    {
     "name": "stderr",
     "output_type": "stream",
     "text": [
      "/Users/macbook/opt/anaconda3/lib/python3.9/site-packages/seaborn/distributions.py:2619: FutureWarning: `distplot` is a deprecated function and will be removed in a future version. Please adapt your code to use either `displot` (a figure-level function with similar flexibility) or `histplot` (an axes-level function for histograms).\n",
      "  warnings.warn(msg, FutureWarning)\n"
     ]
    },
    {
     "data": {
      "image/png": "[encoded data removed]",
      "text/plain": [
       "<Figure size 640x480 with 1 Axes>"
      ]
     },
     "metadata": {},
     "output_type": "display_data"
    }
   ],
   "source": [
    "sns_plot = sns.distplot(L_dist[0])\n",
    "fig = sns_plot.get_figure()"
   ]
  },
  {
   "cell_type": "code",
   "execution_count": 11,
   "id": "ff4f7e47",
   "metadata": {},
   "outputs": [
    {
     "name": "stderr",
     "output_type": "stream",
     "text": [
      "/Users/macbook/opt/anaconda3/lib/python3.9/site-packages/seaborn/distributions.py:2619: FutureWarning: `distplot` is a deprecated function and will be removed in a future version. Please adapt your code to use either `displot` (a figure-level function with similar flexibility) or `histplot` (an axes-level function for histograms).\n",
      "  warnings.warn(msg, FutureWarning)\n",
      "/Users/macbook/opt/anaconda3/lib/python3.9/site-packages/seaborn/distributions.py:2657: RuntimeWarning: Mean of empty slice.\n",
      "  line, = ax.plot(a.mean(), 0)\n",
      "/Users/macbook/opt/anaconda3/lib/python3.9/site-packages/numpy/core/_methods.py:189: RuntimeWarning: invalid value encountered in double_scalars\n",
      "  ret = ret.dtype.type(ret / rcount)\n",
      "/Users/macbook/opt/anaconda3/lib/python3.9/site-packages/numpy/lib/histograms.py:906: RuntimeWarning: invalid value encountered in true_divide\n",
      "  return n/db/n.sum(), bin_edges\n"
     ]
    },
    {
     "data": {
      "image/png": "[encoded data removed]",
      "text/plain": [
       "<Figure size 640x480 with 1 Axes>"
      ]
     },
     "metadata": {},
     "output_type": "display_data"
    }
   ],
   "source": [
    "sns_plot = sns.distplot(L_dist[1])\n",
    "fig = sns_plot.get_figure()"
   ]
  },
  {
   "cell_type": "code",
   "execution_count": 12,
   "id": "fc4a7e11",
   "metadata": {},
   "outputs": [
    {
     "data": {
      "image/png": "[encoded data removed]",
      "text/plain": [
       "<Figure size 640x480 with 1 Axes>"
      ]
     },
     "metadata": {},
     "output_type": "display_data"
    }
   ],
   "source": [
    "sns_plot = sns.distplot(L_dist[2])\n",
    "fig = sns_plot.get_figure()"
   ]
  },
  {
   "cell_type": "code",
   "execution_count": null,
   "id": "6109c8b3",
   "metadata": {},
   "outputs": [],
   "source": [
    "len(L_dist[0])"
   ]
  },
  {
   "cell_type": "code",
   "execution_count": null,
   "id": "fa76b831",
   "metadata": {},
   "outputs": [],
   "source": []
  }
 ],
 "metadata": {
  "kernelspec": {
   "display_name": "Python 3 (ipykernel)",
   "language": "python",
   "name": "python3"
  },
  "language_info": {
   "codemirror_mode": {
    "name": "ipython",
    "version": 3
   },
   "file_extension": ".py",
   "mimetype": "text/x-python",
   "name": "python",
   "nbconvert_exporter": "python",
   "pygments_lexer": "ipython3",
   "version": "3.9.13"
  }
 },
 "nbformat": 4,
 "nbformat_minor": 5
}
