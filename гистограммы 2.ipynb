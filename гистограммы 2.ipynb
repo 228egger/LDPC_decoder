{
 "cells": [
  {
   "cell_type": "code",
   "execution_count": 87,
   "id": "ea2b1e8f",
   "metadata": {},
   "outputs": [],
   "source": [
    "import matplotlib.pyplot as plt\n",
    "import numpy as np\n",
    "import scipy.stats as stats\n",
    "import math\n",
    "from math import e, log\n",
    "import pandas as pd\n",
    "from sklearn import datasets\n",
    "import seaborn as sns\n",
    "from scipy.stats import norm \n",
    "import matplotlib.pyplot as plt\n",
    "from matplotlib.backends.backend_pdf import PdfPages "
   ]
  },
  {
   "cell_type": "code",
   "execution_count": 88,
   "id": "f44a72bf",
   "metadata": {},
   "outputs": [],
   "source": [
    "size_of_sample = 2000\n",
    "max_l = 200\n",
    "H = np.array([\n",
    "    [1, 1, 1, 1, 1, 1, 0, 0, 0, 0], \n",
    "    [0, 0, 0, 0, 1, 1, 1, 1, 1, 1], \n",
    "    [1, 0, 1, 1, 0, 0, 1, 1, 0, 1],\n",
    "    [1, 1, 0, 1, 0, 1, 0, 0, 1, 1],\n",
    "    [0, 1, 1, 0, 1, 0, 1, 1, 1, 0],\n",
    "])"
   ]
  },
  {
   "cell_type": "code",
   "execution_count": 89,
   "id": "1840b522",
   "metadata": {},
   "outputs": [],
   "source": [
    "def dc_update(L_j_i):\n",
    "    L_i_j = [[0 for i in range(10)] for j in range(5)]\n",
    "    for i in range(len(L_i_j)):\n",
    "        for j in range(len(L_i_j[0])):\n",
    "            tmp = 1\n",
    "            for k in range(len(L_i_j[0])):\n",
    "                if (k != j):\n",
    "                    if (H[i][k]):\n",
    "                        tmp *= np.tanh(L_j_i[k][i] / 2)\n",
    "            L_i_j[i][j] = 2 * np.arctanh(tmp)\n",
    "    return L_i_j"
   ]
  },
  {
   "cell_type": "code",
   "execution_count": 90,
   "id": "05840382",
   "metadata": {},
   "outputs": [],
   "source": [
    "def dv_update(L_i_j, L_j_i, L_j):\n",
    "    for i in range(len(L_j_i)):\n",
    "        for j in range(len(L_j_i[0])):\n",
    "            tmp = L_j[i]\n",
    "            for k in range(len(L_j_i[0])):\n",
    "                if (k != j):\n",
    "                    if (H[k][i]):\n",
    "                        tmp += L_i_j[k][i]\n",
    "            L_j_i[i][j] = tmp\n",
    "    return L_j_i"
   ]
  },
  {
   "cell_type": "code",
   "execution_count": 91,
   "id": "2ebf3e43",
   "metadata": {},
   "outputs": [],
   "source": [
    "def hist_update(L_j_i, l):\n",
    "    L_j_i = np.array(L_j_i)\n",
    "    if (abs(np.sum(L_j_i, axis = 1)) < float('inf')).all():\n",
    "        if (l == 1):\n",
    "            L_dist[0].append(np.sum(L_j_i, axis = 1))\n",
    "        elif (l == 2):\n",
    "            L_dist[1].append(np.sum(L_j_i, axis = 1))\n",
    "        elif (l == 5):\n",
    "            L_dist[2].append(np.sum(L_j_i, axis = 1))\n",
    "        elif (l == 10):\n",
    "            L_dist[3].append(np.sum(L_j_i, axis = 1))\n",
    "        elif (l == 20):\n",
    "            L_dist[4].append(np.sum(L_j_i, axis = 1))\n",
    "        elif (l == 40):\n",
    "            L_dist[5].append(np.sum(L_j_i, axis = 1))\n",
    "        elif (l == 80):\n",
    "            L_dist[6].append(np.sum(L_j_i, axis = 1))\n",
    "        elif (l == 100):\n",
    "            L_dist[7].append(np.sum(L_j_i, axis = 1))\n",
    "        elif (l == 0):\n",
    "            L_dist[8].append(np.sum(L_j_i, axis = 1))"
   ]
  },
  {
   "cell_type": "code",
   "execution_count": 92,
   "id": "9702981d",
   "metadata": {},
   "outputs": [],
   "source": [
    "def hist_update_2(L_i_j, l):\n",
    "    L_i_j = np.array(L_i_j)\n",
    "    if  (abs(np.sum(L_i_j, axis = 1)) < float('inf')).all():\n",
    "        if (l == 1):\n",
    "            L_dist_c[0].append(np.sum(L_i_j, axis = 1))\n",
    "        elif (l == 2):\n",
    "            L_dist_c[1].append(np.sum(L_i_j, axis = 1))\n",
    "        elif (l == 5):\n",
    "            L_dist_c[2].append(np.sum(L_i_j, axis = 1))\n",
    "        elif (l == 10):\n",
    "            L_dist_c[3].append(np.sum(L_i_j, axis = 1))\n",
    "        elif (l == 20):\n",
    "            L_dist_c[4].append(np.sum(L_i_j, axis = 1))\n",
    "        elif (l == 40):\n",
    "            L_dist_c[5].append(np.sum(L_i_j, axis = 1))\n",
    "        elif (l == 80):\n",
    "            L_dist_c[6].append(np.sum(L_i_j, axis = 1))\n",
    "        elif (l == 100):\n",
    "            L_dist_c[7].append(np.sum(L_i_j, axis = 1))\n",
    "        "
   ]
  },
  {
   "cell_type": "code",
   "execution_count": 93,
   "id": "6e7662ac",
   "metadata": {},
   "outputs": [],
   "source": [
    "def stop_kriteria(L_j_i, L_i_j, L_j, H, l, trace, i):\n",
    "    mv = np.zeros(10)\n",
    "    for j in range(len(L_j_i)):\n",
    "        tmp = 0\n",
    "        for i in range(len(L_j_i[0])):\n",
    "            if (H[i][j]):\n",
    "                tmp += L_i_j[i][j]\n",
    "        if (tmp + L_j[j] < 0):\n",
    "            mv[j] = 1\n",
    "        else:\n",
    "            mv[j] = 0\n",
    "    if (np.dot(mv, H.T).all() == 0):\n",
    "        #print(\"got_it\\n\")\n",
    "        #print(mv)\n",
    "        #print(l)\n",
    "        #return True\n",
    "        if trace[i][0] == 0:\n",
    "            trace[i][0] = 1\n",
    "            trace[i][1] = 0\n",
    "    else:\n",
    "        if trace[i][0] == 1:\n",
    "            trace[i][1] = 1\n",
    "    if (l == max_l):\n",
    "        #print(\"max_iter_reach\")\n",
    "        return True"
   ]
  },
  {
   "cell_type": "code",
   "execution_count": 94,
   "id": "53ff0a85",
   "metadata": {},
   "outputs": [],
   "source": [
    "def iteration_of_sample(sigma, i):\n",
    "    l = 0\n",
    "    L_j = np.random.normal(2/(sigma ** 2), 4 / (sigma ** 2), 2000)\n",
    "    L_j_i = [[L_j[j] if H[i][j] == 1 else 0 for i in range(5)] for j in range(10)]\n",
    "    L_i_j = [[0 for i in range(5)] for j in range(10)]\n",
    "    hist_update_2(L_j_i, l)\n",
    "    while True:\n",
    "        L_i_j = dc_update(L_j_i)\n",
    "        L_j_i = dv_update(L_i_j, L_j_i, L_j)\n",
    "        l += 1\n",
    "        hist_update(L_j_i, l)\n",
    "        hist_update_2(L_i_j, l)\n",
    "        if (stop_kriteria(L_j_i, L_i_j, L_j, H, l, trace, i)):\n",
    "            break\n",
    "    return l"
   ]
  },
  {
   "cell_type": "markdown",
   "id": "e9820e58",
   "metadata": {},
   "source": [
    "Рассмотрим распределение на v и u для сигмы, находящейся в районе трешхолда, на 1, 2, 5, 10, 20, 40, 80 итерациях, пока только для первой вершины"
   ]
  },
  {
   "cell_type": "code",
   "execution_count": 95,
   "id": "f1db53de",
   "metadata": {},
   "outputs": [
    {
     "name": "stderr",
     "output_type": "stream",
     "text": [
      "/var/folders/x6/b_ylqyd127s0ckfw_r19b2880000gn/T/ipykernel_56167/2049944553.py:10: RuntimeWarning: divide by zero encountered in arctanh\n",
      "  L_i_j[i][j] = 2 * np.arctanh(tmp)\n",
      "/Users/macbook/opt/anaconda3/lib/python3.9/site-packages/numpy/core/fromnumeric.py:86: RuntimeWarning: invalid value encountered in reduce\n",
      "  return ufunc.reduce(obj, axis, dtype, out, **passkwargs)\n"
     ]
    }
   ],
   "source": [
    "sigma = 0.7\n",
    "L_dist = [[] for j in range(9)]\n",
    "L_dist_c = [[] for j in range(8)]\n",
    "i = 0\n",
    "trace = [[0, 0] for i in range(2000)]\n",
    "while (i < size_of_sample):\n",
    "    iteration_of_sample(sigma, i)\n",
    "    i += 1"
   ]
  },
  {
   "cell_type": "code",
   "execution_count": 96,
   "id": "b0a01e4f",
   "metadata": {},
   "outputs": [],
   "source": [
    "def save_image(filename): \n",
    "    \n",
    "    # PdfPages is a wrapper around pdf  \n",
    "    # file so there is no clash and \n",
    "    # create files with no error. \n",
    "    p = PdfPages(filename) \n",
    "      \n",
    "    # get_fignums Return list of existing \n",
    "    # figure numbers \n",
    "    fig_nums = plt.get_fignums()   \n",
    "    figs = [plt.figure(n) for n in fig_nums] \n",
    "      \n",
    "    # iterating over the numbers in list \n",
    "    for fig in figs:  \n",
    "        \n",
    "        # and saving the files \n",
    "        fig.savefig(p, format='pdf')  \n",
    "          \n",
    "    # close the object \n",
    "    p.close()  "
   ]
  },
  {
   "cell_type": "code",
   "execution_count": 98,
   "id": "ae74936e",
   "metadata": {},
   "outputs": [
    {
     "name": "stdout",
     "output_type": "stream",
     "text": [
      "(2000, 5)\n"
     ]
    },
    {
     "data": {
      "text/plain": [
       "<AxesSubplot: >"
      ]
     },
     "execution_count": 98,
     "metadata": {},
     "output_type": "execute_result"
    },
    {
     "data": {
      "image/png": "[encoded data removed]",
      "text/plain": [
       "<Figure size 640x480 with 1 Axes>"
      ]
     },
     "metadata": {},
     "output_type": "display_data"
    }
   ],
   "source": [
    "arr = np.array(L_dist_c[0])\n",
    "print(arr.shape)\n",
    "arr_to_plot = np.mean(arr, axis = 0) / np.std(arr, axis = 0)\n",
    "sns.lineplot(arr_to_plot)"
   ]
  },
  {
   "cell_type": "code",
   "execution_count": null,
   "id": "0fc4bede",
   "metadata": {},
   "outputs": [],
   "source": [
    "arr = np.array(L_dist[0])\n",
    "print(arr.shape)\n",
    "arr_to_plot = np.mean(arr, axis = 0) / np.std(arr, axis = 0)\n",
    "sns.lineplot(arr_to_plot)"
   ]
  },
  {
   "cell_type": "code",
   "execution_count": 63,
   "id": "46739748",
   "metadata": {},
   "outputs": [
    {
     "name": "stdout",
     "output_type": "stream",
     "text": [
      "(2000,)\n",
      "(2000,)\n",
      "(2000,)\n",
      "(1965,)\n",
      "(1863,)\n",
      "(1842,)\n",
      "(1834,)\n",
      "(1834,)\n"
     ]
    }
   ],
   "source": [
    "for l in range(8):\n",
    "    fig1 = plt.figure() \n",
    "    arr = np.array(L_dist[l])[:, 0]\n",
    "    print(arr.shape)\n",
    "    \n",
    "    \n",
    "    mu, std = norm.fit(arr)\n",
    "    plt.hist(arr, bins= np.arange(arr.min(), arr.max() + 1, 1), density=True)\n",
    "    xmin, xmax = plt.xlim() \n",
    "    x = np.linspace(xmin, xmax, 10000) \n",
    "    p = norm.pdf(x, mu, std) \n",
    "    plt.plot(x, p, 'k', linewidth=2)\n",
    "    title = \"sigma: {:.5f}; decoded: {:.2f}\".format(sigma, arr.shape[0] / 2000) + \" dv = 6, dc = 3 \" + \"VN\"\n",
    "    plt.title(title) \n",
    "    plt.plot()\n",
    "    if (l == 0):\n",
    "        filename = \"VN_iteration1_sigma: {:.2f}.pdf\".format(sigma)\n",
    "    elif (l == 1):\n",
    "        filename = \"VN_iteration2_sigma: {:.2f}.pdf\".format(sigma)\n",
    "    elif (l == 2):\n",
    "        filename = \"VN_iteration5_sigma: {:.2f}.pdf\".format(sigma)\n",
    "    elif (l == 3):\n",
    "        filename = \"VN_iteration10_sigma: {:.2f}.pdf\".format(sigma) \n",
    "    elif (l == 4):\n",
    "        filename = \"VN_iteration20_sigma: {:.2f}.pdf\".format(sigma)  \n",
    "    elif (l == 5):\n",
    "        filename = \"VN_iteration40_sigma: {:.2f}.pdf\".format(sigma)  \n",
    "    elif (l == 6):\n",
    "        filename = \"VN_iteration80_sigma: {:.2f}.pdf\".format(sigma) \n",
    "    elif (l == 7):\n",
    "        filename = \"VN_iteration100_sigma: {:.2f}.pdf\".format(sigma) \n",
    "    save_image(filename)  \n",
    "    plt.close('all')"
   ]
  },
  {
   "cell_type": "code",
   "execution_count": 64,
   "id": "40708948",
   "metadata": {},
   "outputs": [],
   "source": [
    "for l in range(8):\n",
    "    fig2 = plt.figure()\n",
    "    arr = np.array(L_dist_c[l])[:, 0]\n",
    "    mu, std = norm.fit(arr)  \n",
    "    plt.hist(arr, bins= np.arange(arr.min(), arr.max() + 0.1, 0.1), density=True)\n",
    "    xmin, xmax = plt.xlim() \n",
    "    x = np.linspace(xmin, xmax, 10000) \n",
    "    p = norm.pdf(x, mu, std) \n",
    "\n",
    "    plt.plot(x, p, 'k', linewidth=2)\n",
    "    title = \"sigma: {:.5f}; decoded: {:.2f}\".format(sigma, arr.shape[0] / 2000) + \" dv = 6, dc = 3 \" + \"CN\"\n",
    "    plt.title(title) \n",
    "    plt.plot()\n",
    "    if (l == 0):\n",
    "        filename = \"CN_iteration1_sigma: {:.2f}.pdf\".format(sigma) \n",
    "    elif (l == 1):\n",
    "        filename = \"CN_iteration2_sigma: {:.2f}.pdf\".format(sigma) \n",
    "    elif (l == 2):\n",
    "        filename = \"CN_iteration5_sigma: {:.2f}.pdf\".format(sigma) \n",
    "    elif (l == 3):\n",
    "        filename = \"CN_iteration10_sigma: {:.2f}.pdf\".format(sigma) \n",
    "    elif (l == 4):\n",
    "        filename = \"CN_iteration20_sigma: {:.2f}.pdf\".format(sigma) \n",
    "    elif (l == 5):\n",
    "        filename = \"CN_iteration40_sigma: {:.2f}.pdf\".format(sigma) \n",
    "    elif (l == 6):\n",
    "        filename = \"CN_iteration80_sigma: {:.2f}.pdf\".format(sigma) \n",
    "    elif (l == 7):\n",
    "        filename = \"CN_iteration100_sigma: {:.2f}.pdf\".format(sigma) \n",
    "    save_image(filename)  \n",
    "    plt.close('all')"
   ]
  },
  {
   "cell_type": "code",
   "execution_count": null,
   "id": "65bc986c",
   "metadata": {},
   "outputs": [],
   "source": []
  },
  {
   "cell_type": "code",
   "execution_count": null,
   "id": "292f2d0d",
   "metadata": {},
   "outputs": [],
   "source": []
  }
 ],
 "metadata": {
  "kernelspec": {
   "display_name": "Python 3 (ipykernel)",
   "language": "python",
   "name": "python3"
  },
  "language_info": {
   "codemirror_mode": {
    "name": "ipython",
    "version": 3
   },
   "file_extension": ".py",
   "mimetype": "text/x-python",
   "name": "python",
   "nbconvert_exporter": "python",
   "pygments_lexer": "ipython3",
   "version": "3.9.13"
  }
 },
 "nbformat": 4,
 "nbformat_minor": 5
}
