{
 "cells": [
  {
   "cell_type": "markdown",
   "id": "c2a3c033",
   "metadata": {},
   "source": [
    "Критерий остановки находится в функции ifstop\n",
    "В случае нерегулярных кодов реализация U и V в виде двойного массива, в первой ячейке текущее значение LRR, а во\n",
    "второй либо степень либо м-во вершин из DC с которыми она соединена\n",
    "В случае регулярных можно считать только для одной вершины из Dv и Dc так как они распределены одинаково"
   ]
  },
  {
   "cell_type": "code",
   "execution_count": 1,
   "id": "5cb9d3d2",
   "metadata": {},
   "outputs": [],
   "source": [
    "import matplotlib.pyplot as plt\n",
    "import numpy as np\n",
    "import scipy.stats as stats\n",
    "import math\n",
    "from math import e, log"
   ]
  },
  {
   "cell_type": "code",
   "execution_count": 2,
   "id": "f9734d07",
   "metadata": {},
   "outputs": [],
   "source": [
    "sigma = 1\n",
    "size_of_sample = 1000\n",
    "max_l = 1000\n",
    "l = 0\n",
    "H = np.array([[1, 1, 1, 1, 1, 1, 0, 0, 0, 0, 0, 0], \n",
    "             [1, 0, 0, 0, 0, 0, 1, 1, 1, 1, 1, 0], \n",
    "             [1, 0, 1, 0, 1, 0, 1, 0, 1, 0, 1, 0],\n",
    "             [0, 1, 0, 1, 0, 1, 0, 1, 0, 1, 0, 1],\n",
    "             [0, 0, 1, 1, 0, 0, 1, 1, 0, 0, 1, 1],\n",
    "             [0, 1, 0, 0, 1, 1, 0, 0, 1, 1, 0, 1]])"
   ]
  },
  {
   "cell_type": "code",
   "execution_count": 3,
   "id": "99065e50",
   "metadata": {},
   "outputs": [],
   "source": [
    "def tanh(x):\n",
    "    return (e**(2*x) - 1)/(e**(2*x) + 1)\n",
    "def tanh_1(x):\n",
    "    return log((1 + x)/(1 - x))"
   ]
  },
  {
   "cell_type": "code",
   "execution_count": 4,
   "id": "0cc059ee",
   "metadata": {},
   "outputs": [
    {
     "data": {
      "text/plain": [
       "[-0.5381923450365659,\n",
       " 1.0831588497912605,\n",
       " -1.8156436334730846,\n",
       " 2.0996747583743294,\n",
       " -0.5699058530433603,\n",
       " -1.0412778483293814]"
      ]
     },
     "execution_count": 4,
     "metadata": {},
     "output_type": "execute_result"
    }
   ],
   "source": [
    "nu = np.random.normal(0, sigma, 6)\n",
    "x= np.random.randint(0,2,6)\n",
    "v = [-1 if (i == 1) else 1 for i in x]\n",
    "y = [v[i] + nu[i] for i in range(6)]\n",
    "y"
   ]
  },
  {
   "cell_type": "code",
   "execution_count": 5,
   "id": "b05ae4f2",
   "metadata": {},
   "outputs": [
    {
     "data": {
      "text/plain": [
       "[-1.0763846900731318,\n",
       " 2.166317699582521,\n",
       " -3.631287266946169,\n",
       " 4.199349516748659,\n",
       " -1.1398117060867206,\n",
       " -2.082555696658763]"
      ]
     },
     "execution_count": 5,
     "metadata": {},
     "output_type": "execute_result"
    }
   ],
   "source": [
    "L_j = [2 * i / (sigma ** 2) for i in y]\n",
    "L_j_i = [[L_j[j] if H[j][i] == 1 else 0 for i in range(12)] for j in range(6)]\n",
    "L_i_j = [[0 for i in range(6)] for j in range(12)]\n",
    "L_j"
   ]
  },
  {
   "cell_type": "code",
   "execution_count": 6,
   "id": "ff046f38",
   "metadata": {},
   "outputs": [],
   "source": [
    "def dc_update(L_j_i):\n",
    "    L_i_j = [[0 for i in range(6)] for j in range(12)]\n",
    "    for i in range(len(L_i_j)):\n",
    "        for j in range(len(L_i_j[0])):\n",
    "            tmp = 1\n",
    "            for k in range(len(L_i_j[0])):\n",
    "                if (k != j ):\n",
    "                    if (H[k][i]):\n",
    "                        tmp *= tanh(L_j_i[k][i] / 2)\n",
    "            L_i_j[i][j] = tanh_1(tmp)\n",
    "    return L_i_j\n",
    "                "
   ]
  },
  {
   "cell_type": "code",
   "execution_count": 7,
   "id": "91185669",
   "metadata": {},
   "outputs": [],
   "source": [
    "def dv_update(L_i_j, L_j_i, L_j):\n",
    "    for i in range(len(L_j_i)):\n",
    "        for j in range(len(L_j_i[0])):\n",
    "            tmp = 0\n",
    "            for k in range(len(L_j_i[0])):\n",
    "                if (k != j):\n",
    "                    if (H[i][k]):\n",
    "                        tmp += L_i_j[k][i]\n",
    "            L_j_i[i][j] = tmp\n",
    "    return L_j_i\n",
    "    "
   ]
  },
  {
   "cell_type": "code",
   "execution_count": 8,
   "id": "27fb13d4",
   "metadata": {},
   "outputs": [],
   "source": [
    "def stop_kriteria(L_j_i, L_i_j, H, l):\n",
    "    mv = [0 for i in range(len(L_j_i))]\n",
    "    for j in range(len(L_j_i)):\n",
    "        tmp = 0\n",
    "        for i in range(len(L_i_j)):\n",
    "            tmp += L_i_j[i][j]\n",
    "        if (tmp + L_j[j] < 0):\n",
    "            mv[j] = 1\n",
    "        else:\n",
    "            mv[j] = 0\n",
    "    if (np.dot(mv, H).all() == 0):\n",
    "        print(\"got_it\\n\")\n",
    "        print(mv)\n",
    "        print(l)\n",
    "        return True\n",
    "    elif (l == max_l):\n",
    "        print(\"max_iter_reach\")\n",
    "        return False\n",
    "    return 4"
   ]
  },
  {
   "cell_type": "code",
   "execution_count": 9,
   "id": "cfa613ca",
   "metadata": {},
   "outputs": [
    {
     "name": "stdout",
     "output_type": "stream",
     "text": [
      "got_it\n",
      "\n",
      "[1, 1, 1, 0, 0, 0]\n",
      "5\n"
     ]
    }
   ],
   "source": [
    "while True:\n",
    "    L_i_j = dc_update(L_j_i)\n",
    "    L_j_i = dv_update(L_i_j, L_j_i, L_j)\n",
    "    l += 1\n",
    "    if (stop_kriteria(L_j_i, L_i_j, H, l) != 4):\n",
    "        break"
   ]
  },
  {
   "cell_type": "code",
   "execution_count": null,
   "id": "f64b96a6",
   "metadata": {},
   "outputs": [],
   "source": []
  }
 ],
 "metadata": {
  "kernelspec": {
   "display_name": "Python 3 (ipykernel)",
   "language": "python",
   "name": "python3"
  },
  "language_info": {
   "codemirror_mode": {
    "name": "ipython",
    "version": 3
   },
   "file_extension": ".py",
   "mimetype": "text/x-python",
   "name": "python",
   "nbconvert_exporter": "python",
   "pygments_lexer": "ipython3",
   "version": "3.9.13"
  }
 },
 "nbformat": 4,
 "nbformat_minor": 5
}
