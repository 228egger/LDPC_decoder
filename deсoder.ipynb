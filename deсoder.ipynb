{
 "cells": [
  {
   "cell_type": "markdown",
   "id": "c2a3c033",
   "metadata": {},
   "source": [
    "Критерий остановки находится в функции ifstop\n",
    "В случае нерегулярных кодов реализация U и V в виде двойного массива, в первой ячейке текущее значение LRR, а во\n",
    "второй либо степень либо м-во вершин из DC с которыми она соединена\n",
    "В случае регулярных можно считать только для одной вершины из Dv и Dc так как они распределены одинаково"
   ]
  },
  {
   "cell_type": "code",
   "execution_count": 16,
   "id": "5cb9d3d2",
   "metadata": {},
   "outputs": [],
   "source": [
    "import matplotlib.pyplot as plt\n",
    "import numpy as np\n",
    "import scipy.stats as stats\n",
    "import math\n",
    "from math import e, log"
   ]
  },
  {
   "cell_type": "code",
   "execution_count": 17,
   "id": "9db31595",
   "metadata": {},
   "outputs": [],
   "source": [
    "sigma = 0.5\n",
    "size_of_sample = 1000\n",
    "max_l = 1000\n",
    "l = 0\n",
    "H = np.array([[1, 1, 1, 1, 1, 1, 0, 0, 0, 0, 0, 0], \n",
    "             [1, 0, 0, 0, 0, 0, 1, 1, 1, 1, 1, 0], \n",
    "             [1, 0, 1, 0, 1, 0, 1, 0, 1, 0, 1, 0],\n",
    "             [0, 1, 0, 1, 0, 1, 0, 1, 0, 1, 0, 1],\n",
    "             [0, 0, 1, 1, 0, 0, 1, 1, 0, 0, 1, 1],\n",
    "             [0, 1, 0, 0, 1, 1, 0, 0, 1, 1, 0, 1]])"
   ]
  },
  {
   "cell_type": "code",
   "execution_count": 69,
   "id": "ff046f38",
   "metadata": {},
   "outputs": [],
   "source": [
    "def dc_update(L_j_i):\n",
    "    L_i_j = [[0 for i in range(12)] for j in range(6)]\n",
    "    for i in range(len(L_i_j)):\n",
    "        for j in range(len(L_i_j[0])):\n",
    "            tmp = 1\n",
    "            for k in range(len(L_i_j[0])):\n",
    "                if (k != j):\n",
    "                    if (H[i][k]):\n",
    "                        tmp *= np.tanh(L_j_i[k][i] / 2)\n",
    "            L_i_j[i][j] = float(2 * np.arctanh(tmp))\n",
    "    return L_i_j\n",
    "                "
   ]
  },
  {
   "cell_type": "code",
   "execution_count": 70,
   "id": "91185669",
   "metadata": {},
   "outputs": [],
   "source": [
    "def dv_update(L_i_j, L_j_i, L_j):\n",
    "    for i in range(len(L_j_i)):\n",
    "        for j in range(len(L_j_i[0])):\n",
    "            tmp = L_j[i]\n",
    "            for k in range(len(L_j_i[0])):\n",
    "                if (k != j):\n",
    "                    if (H[k][i]):\n",
    "                        tmp += L_i_j[k][i]\n",
    "            L_j_i[i][j] = float(tmp)\n",
    "    return L_j_i\n",
    "    "
   ]
  },
  {
   "cell_type": "code",
   "execution_count": 86,
   "id": "27fb13d4",
   "metadata": {},
   "outputs": [],
   "source": [
    "def stop_kriteria(L_j_i, L_i_j, H, l):\n",
    "    mv = np.zeros(12)\n",
    "    for j in range(len(L_j_i)):\n",
    "        tmp = L_j[j]\n",
    "        for i in range(len(L_j_i[0])):\n",
    "            if (H[i][j]):\n",
    "                tmp += L_i_j[i][j]\n",
    "        if (tmp < 0):\n",
    "            mv[j] = 1\n",
    "        else:\n",
    "            mv[j] = 0\n",
    "    ans[l] = np.mean(L_i_j) / np.std(L_i_j)\n",
    "    if (np.dot(mv, H.T).all() == 0):\n",
    "        print(\"got_it\\n\")\n",
    "        print(mv)\n",
    "        print(l)\n",
    "        return True\n",
    "    elif (l == max_l):\n",
    "        print(\"max_iter_reach\")\n",
    "        return False\n",
    "    return 4"
   ]
  },
  {
   "cell_type": "code",
   "execution_count": 97,
   "id": "cfa613ca",
   "metadata": {},
   "outputs": [
    {
     "name": "stdout",
     "output_type": "stream",
     "text": [
      "max_iter_reach\n"
     ]
    }
   ],
   "source": [
    "ans = np.zeros(max_l + 1)\n",
    "l = 0\n",
    "\n",
    "\n",
    "\n",
    "nu = np.random.normal(0, sigma, 12)\n",
    "x= np.random.randint(0,2,12)\n",
    "v = [-1 if (i == 1) else 1 for i in x]\n",
    "y = [v[i] + nu[i] for i in range(12)]\n",
    "L_j = [2 * i / (sigma ** 2) for i in y]\n",
    "L_j_i = [[L_j[j] if H[i][j] == 1 else 0 for i in range(6)] for j in range(12)]\n",
    "L_i_j = [[0 for i in range(12)] for j in range(6)]\n",
    "L_j_i\n",
    "while True:\n",
    "    L_i_j = dc_update(L_j_i)\n",
    "    L_j_i = dv_update(L_i_j, L_j_i, L_j)\n",
    "    l += 1\n",
    "    if (stop_kriteria(L_j_i, L_i_j, H, l) != 4):\n",
    "        break"
   ]
  },
  {
   "cell_type": "code",
   "execution_count": 98,
   "id": "fefac71a",
   "metadata": {},
   "outputs": [
    {
     "data": {
      "text/plain": [
       "<AxesSubplot: >"
      ]
     },
     "execution_count": 98,
     "metadata": {},
     "output_type": "execute_result"
    },
    {
     "data": {
      "image/png": "[encoded data removed]",
      "text/plain": [
       "<Figure size 640x480 with 1 Axes>"
      ]
     },
     "metadata": {},
     "output_type": "display_data"
    }
   ],
   "source": [
    "import seaborn as sns\n",
    "sns.lineplot(ans)"
   ]
  },
  {
   "cell_type": "code",
   "execution_count": 33,
   "id": "c2cd3fcb",
   "metadata": {},
   "outputs": [
    {
     "name": "stdout",
     "output_type": "stream",
     "text": [
      "[ 0. nan nan ... nan nan nan]\n"
     ]
    }
   ],
   "source": [
    "print(ans)"
   ]
  },
  {
   "cell_type": "code",
   "execution_count": null,
   "id": "b0c854b9",
   "metadata": {},
   "outputs": [],
   "source": []
  }
 ],
 "metadata": {
  "kernelspec": {
   "display_name": "Python 3 (ipykernel)",
   "language": "python",
   "name": "python3"
  },
  "language_info": {
   "codemirror_mode": {
    "name": "ipython",
    "version": 3
   },
   "file_extension": ".py",
   "mimetype": "text/x-python",
   "name": "python",
   "nbconvert_exporter": "python",
   "pygments_lexer": "ipython3",
   "version": "3.9.13"
  }
 },
 "nbformat": 4,
 "nbformat_minor": 5
}
