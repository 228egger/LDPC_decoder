{
 "cells": [
  {
   "cell_type": "markdown",
   "id": "c2a3c033",
   "metadata": {},
   "source": [
    "Критерий остановки находится в функции ifstop\n",
    "В случае нерегулярных кодов реализация U и V в виде двойного массива, в первой ячейке текущее значение LRR, а во\n",
    "второй либо степень либо м-во вершин из DC с которыми она соединена\n",
    "В случае регулярных можно считать только для одной вершины из Dv и Dc так как они распределены одинаково"
   ]
  },
  {
   "cell_type": "code",
   "execution_count": 25,
   "id": "5cb9d3d2",
   "metadata": {},
   "outputs": [],
   "source": [
    "import matplotlib.pyplot as plt\n",
    "import numpy as np\n",
    "import scipy.stats as stats\n",
    "import math\n",
    "from math import e, log"
   ]
  },
  {
   "cell_type": "code",
   "execution_count": 38,
   "id": "9db31595",
   "metadata": {},
   "outputs": [],
   "source": [
    "sigma = 0.5\n",
    "size_of_sample = 1000\n",
    "max_l = 1000\n",
    "l = 0\n",
    "H = np.array([[1, 1, 1, 1, 1, 1, 0, 0, 0, 0, 0, 0], \n",
    "             [1, 0, 0, 0, 0, 0, 1, 1, 1, 1, 1, 0], \n",
    "             [1, 0, 1, 0, 1, 0, 1, 0, 1, 0, 1, 0],\n",
    "             [0, 1, 0, 1, 0, 1, 0, 1, 0, 1, 0, 1],\n",
    "             [0, 0, 1, 1, 0, 0, 1, 1, 0, 0, 1, 1],\n",
    "             [0, 1, 0, 0, 1, 1, 0, 0, 1, 1, 0, 1]])"
   ]
  },
  {
   "cell_type": "code",
   "execution_count": 39,
   "id": "0cc059ee",
   "metadata": {},
   "outputs": [
    {
     "data": {
      "text/plain": [
       "[0.837300112722944,\n",
       " -0.5569025192554364,\n",
       " 0.24886395820370688,\n",
       " 1.6024020909937495,\n",
       " -1.1363666413720324,\n",
       " -2.3284563353584735,\n",
       " 0.8053536793356176,\n",
       " 1.482866579080677,\n",
       " 1.498250091270355,\n",
       " -1.1037721134382918,\n",
       " -2.0449640446659707,\n",
       " 1.9667352402885399]"
      ]
     },
     "execution_count": 39,
     "metadata": {},
     "output_type": "execute_result"
    }
   ],
   "source": [
    "nu = np.random.normal(0, sigma, 12)\n",
    "x= np.random.randint(0,2,12)\n",
    "v = [-1 if (i == 1) else 1 for i in x]\n",
    "y = [v[i] + nu[i] for i in range(12)]\n",
    "y"
   ]
  },
  {
   "cell_type": "code",
   "execution_count": 35,
   "id": "b05ae4f2",
   "metadata": {},
   "outputs": [
    {
     "data": {
      "text/plain": [
       "[-11.550502004727536,\n",
       " -12.025259561942274,\n",
       " 13.107511319670577,\n",
       " 9.866278592402892,\n",
       " 4.239761223557171,\n",
       " 2.5481248417003233,\n",
       " -6.5903149892048,\n",
       " 10.762238115416082,\n",
       " 8.99315998347485,\n",
       " 1.8444222925589902,\n",
       " -15.337237784031656,\n",
       " -13.521872972391545]"
      ]
     },
     "execution_count": 35,
     "metadata": {},
     "output_type": "execute_result"
    }
   ],
   "source": [
    "L_j = [2 * i / (sigma ** 2) for i in y]\n",
    "L_j_i = [[L_j[j] if H[i][j] == 1 else 0 for i in range(6)] for j in range(12)]\n",
    "L_i_j = [[0 for i in range(12)] for j in range(6)]\n",
    "L_j"
   ]
  },
  {
   "cell_type": "code",
   "execution_count": 29,
   "id": "ff046f38",
   "metadata": {},
   "outputs": [],
   "source": [
    "def dc_update(L_j_i):\n",
    "    L_i_j = [[0 for i in range(12)] for j in range(6)]\n",
    "    for i in range(len(L_i_j)):\n",
    "        for j in range(len(L_i_j[0])):\n",
    "            tmp = 1\n",
    "            for k in range(len(L_i_j[0])):\n",
    "                if (k != j):\n",
    "                    if (H[i][k]):\n",
    "                        tmp *= np.tanh(L_j_i[k][i] / 2)\n",
    "            L_i_j[i][j] = float(2 * np.arctanh(tmp))\n",
    "    return L_i_j\n",
    "                "
   ]
  },
  {
   "cell_type": "code",
   "execution_count": 30,
   "id": "91185669",
   "metadata": {},
   "outputs": [],
   "source": [
    "def dv_update(L_i_j, L_j_i, L_j):\n",
    "    for i in range(len(L_j_i)):\n",
    "        for j in range(len(L_j_i[0])):\n",
    "            tmp = L_j[i]\n",
    "            for k in range(len(L_j_i[0])):\n",
    "                if (k != j):\n",
    "                    if (H[k][i]):\n",
    "                        tmp += L_i_j[k][i]\n",
    "            L_j_i[i][j] = float(tmp)\n",
    "    return L_j_i\n",
    "    "
   ]
  },
  {
   "cell_type": "code",
   "execution_count": 31,
   "id": "27fb13d4",
   "metadata": {},
   "outputs": [],
   "source": [
    "def stop_kriteria(L_j_i, L_i_j, H, l):\n",
    "    mv = np.zeros(12)\n",
    "    for j in range(len(L_j_i)):\n",
    "        tmp = L_j[j]\n",
    "        for i in range(len(L_j_i[0])):\n",
    "            if (H[i][j]):\n",
    "                tmp += L_i_j[i][j]\n",
    "        if (tmp < 0):\n",
    "            mv[j] = 1\n",
    "        else:\n",
    "            mv[j] = 0\n",
    "    if (np.dot(mv, H.T).all() == 0):\n",
    "        print(\"got_it\\n\")\n",
    "        print(mv)\n",
    "        print(l)\n",
    "        return True\n",
    "    elif (l == max_l):\n",
    "        print(\"max_iter_reach\")\n",
    "        return False\n",
    "    return 4"
   ]
  },
  {
   "cell_type": "code",
   "execution_count": 40,
   "id": "cfa613ca",
   "metadata": {},
   "outputs": [
    {
     "name": "stderr",
     "output_type": "stream",
     "text": [
      "/var/folders/x6/b_ylqyd127s0ckfw_r19b2880000gn/T/ipykernel_17248/1214997842.py:10: RuntimeWarning: divide by zero encountered in arctanh\n",
      "  L_i_j[i][j] = float(2 * np.arctanh(tmp))\n"
     ]
    },
    {
     "name": "stdout",
     "output_type": "stream",
     "text": [
      "max_iter_reach\n"
     ]
    }
   ],
   "source": [
    "while True:\n",
    "    L_i_j = dc_update(L_j_i)\n",
    "    L_j_i = dv_update(L_i_j, L_j_i, L_j)\n",
    "    l += 1\n",
    "    if (stop_kriteria(L_j_i, L_i_j, H, l) != 4):\n",
    "        break"
   ]
  },
  {
   "cell_type": "code",
   "execution_count": null,
   "id": "fefac71a",
   "metadata": {},
   "outputs": [],
   "source": []
  }
 ],
 "metadata": {
  "kernelspec": {
   "display_name": "Python 3 (ipykernel)",
   "language": "python",
   "name": "python3"
  },
  "language_info": {
   "codemirror_mode": {
    "name": "ipython",
    "version": 3
   },
   "file_extension": ".py",
   "mimetype": "text/x-python",
   "name": "python",
   "nbconvert_exporter": "python",
   "pygments_lexer": "ipython3",
   "version": "3.9.13"
  }
 },
 "nbformat": 4,
 "nbformat_minor": 5
}
